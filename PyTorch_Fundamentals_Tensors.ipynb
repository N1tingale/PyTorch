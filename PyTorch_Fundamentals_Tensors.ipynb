{
  "nbformat": 4,
  "nbformat_minor": 0,
  "metadata": {
    "colab": {
      "provenance": [],
      "gpuType": "T4",
      "authorship_tag": "ABX9TyPOP21Xa/SEcI18a9bI+iN3"
    },
    "kernelspec": {
      "name": "python3",
      "display_name": "Python 3"
    },
    "language_info": {
      "name": "python"
    }
  },
  "cells": [
    {
      "cell_type": "code",
      "source": [
        "import torch\n",
        "import pandas as pd\n",
        "import numpy as np\n",
        "import matplotlib.pyplot as plt"
      ],
      "metadata": {
        "id": "YA8GSQHc3SMy"
      },
      "execution_count": 1,
      "outputs": []
    },
    {
      "cell_type": "markdown",
      "source": [
        "### Introduction to Tensors\n",
        "### Scalar"
      ],
      "metadata": {
        "id": "ZBid7fGY4QYi"
      }
    },
    {
      "cell_type": "code",
      "source": [
        "# Scalar\n",
        "# Usually the variable name is lowercase in code\n",
        "scalar = torch.tensor(7)\n",
        "scalar"
      ],
      "metadata": {
        "colab": {
          "base_uri": "https://localhost:8080/"
        },
        "id": "hzhwg5T148bR",
        "outputId": "d4454dec-055f-412f-e822-4c8a68e04b20"
      },
      "execution_count": 2,
      "outputs": [
        {
          "output_type": "execute_result",
          "data": {
            "text/plain": [
              "tensor(7)"
            ]
          },
          "metadata": {},
          "execution_count": 2
        }
      ]
    },
    {
      "cell_type": "code",
      "source": [
        "# Get number of tensor dimensions\n",
        "scalar.ndim"
      ],
      "metadata": {
        "id": "hYRyhw376wfq",
        "colab": {
          "base_uri": "https://localhost:8080/"
        },
        "outputId": "69279588-cd00-4d53-f142-5d95c470435a"
      },
      "execution_count": 3,
      "outputs": [
        {
          "output_type": "execute_result",
          "data": {
            "text/plain": [
              "0"
            ]
          },
          "metadata": {},
          "execution_count": 3
        }
      ]
    },
    {
      "cell_type": "code",
      "source": [
        "# Get python equivalent of the tensor\n",
        "scalar.item()"
      ],
      "metadata": {
        "colab": {
          "base_uri": "https://localhost:8080/"
        },
        "id": "OxYVS0c2QCeZ",
        "outputId": "c47ce6ed-c0ab-4af6-f9e4-88c153078fa0"
      },
      "execution_count": 4,
      "outputs": [
        {
          "output_type": "execute_result",
          "data": {
            "text/plain": [
              "7"
            ]
          },
          "metadata": {},
          "execution_count": 4
        }
      ]
    },
    {
      "cell_type": "code",
      "source": [
        "# Vector\n",
        "# Usually the variable name is lowercase in code\n",
        "vector = torch.tensor([[1],[2],[3]])\n",
        "vector"
      ],
      "metadata": {
        "colab": {
          "base_uri": "https://localhost:8080/"
        },
        "id": "dYGVR3AQ-Jum",
        "outputId": "5d050920-3982-44cf-b722-0ae6eae79125"
      },
      "execution_count": 5,
      "outputs": [
        {
          "output_type": "execute_result",
          "data": {
            "text/plain": [
              "tensor([[1],\n",
              "        [2],\n",
              "        [3]])"
            ]
          },
          "metadata": {},
          "execution_count": 5
        }
      ]
    },
    {
      "cell_type": "code",
      "source": [
        "# Get shape of the tensor\n",
        "vector.shape"
      ],
      "metadata": {
        "colab": {
          "base_uri": "https://localhost:8080/"
        },
        "id": "QxlAo9Hr-Xav",
        "outputId": "a28e0cd1-b27d-4d3a-89bc-cd411bc8ae3c"
      },
      "execution_count": 6,
      "outputs": [
        {
          "output_type": "execute_result",
          "data": {
            "text/plain": [
              "torch.Size([3, 1])"
            ]
          },
          "metadata": {},
          "execution_count": 6
        }
      ]
    },
    {
      "cell_type": "code",
      "source": [
        "# MATRIX\n",
        "# Usually the variable name is uppercase in code\n",
        "MATRIX = torch.tensor([[7,8], [9, 10]])\n",
        "MATRIX"
      ],
      "metadata": {
        "colab": {
          "base_uri": "https://localhost:8080/"
        },
        "id": "iNbB6NFL-bWv",
        "outputId": "8ae8030d-0678-466f-9b57-253ebaebea4e"
      },
      "execution_count": 7,
      "outputs": [
        {
          "output_type": "execute_result",
          "data": {
            "text/plain": [
              "tensor([[ 7,  8],\n",
              "        [ 9, 10]])"
            ]
          },
          "metadata": {},
          "execution_count": 7
        }
      ]
    },
    {
      "cell_type": "code",
      "source": [
        "MATRIX.ndim"
      ],
      "metadata": {
        "colab": {
          "base_uri": "https://localhost:8080/"
        },
        "id": "szBu8ni8_K5K",
        "outputId": "44fb5066-7dcf-495f-9c8d-20237e69f4ad"
      },
      "execution_count": 8,
      "outputs": [
        {
          "output_type": "execute_result",
          "data": {
            "text/plain": [
              "2"
            ]
          },
          "metadata": {},
          "execution_count": 8
        }
      ]
    },
    {
      "cell_type": "code",
      "source": [
        "MATRIX.shape"
      ],
      "metadata": {
        "colab": {
          "base_uri": "https://localhost:8080/"
        },
        "id": "psdeCCVM_L7n",
        "outputId": "2813417d-52dc-436d-fbe7-36df158c3fc4"
      },
      "execution_count": 9,
      "outputs": [
        {
          "output_type": "execute_result",
          "data": {
            "text/plain": [
              "torch.Size([2, 2])"
            ]
          },
          "metadata": {},
          "execution_count": 9
        }
      ]
    },
    {
      "cell_type": "code",
      "source": [
        "# TENSOR\n",
        "# Usually the variable name is uppercase in code\n",
        "TENSOR = torch.tensor([[[1,2,3]]])"
      ],
      "metadata": {
        "id": "sACKvWAe_NCF"
      },
      "execution_count": 10,
      "outputs": []
    },
    {
      "cell_type": "markdown",
      "source": [
        "### Random Tensors\n",
        "\n",
        "Random tensors are important, because many neural networks learn by starting with tensors with random numbers, and then adjusting them to better represent the data.\n",
        "\n",
        "One example of such a workflow would be:\n",
        "1. Start with random numbers\n",
        "2. Look at the data\n",
        "3. Update the random numbers\n",
        "4. Repeat steps 2-3"
      ],
      "metadata": {
        "id": "vdswAqsK04bG"
      }
    },
    {
      "cell_type": "code",
      "source": [
        "# Create a random tensor of size/shape (a, b)\n",
        "random_tensor = torch.rand(3,4)\n",
        "random_tensor"
      ],
      "metadata": {
        "colab": {
          "base_uri": "https://localhost:8080/"
        },
        "id": "Re-6Cam2065H",
        "outputId": "44a8cbc5-c24b-43ea-e79d-17cb7a3565a5"
      },
      "execution_count": 11,
      "outputs": [
        {
          "output_type": "execute_result",
          "data": {
            "text/plain": [
              "tensor([[0.3894, 0.2124, 0.0039, 0.1950],\n",
              "        [0.8947, 0.4703, 0.5093, 0.5216],\n",
              "        [0.9783, 0.6997, 0.6438, 0.1982]])"
            ]
          },
          "metadata": {},
          "execution_count": 11
        }
      ]
    },
    {
      "cell_type": "code",
      "source": [
        "# Create a random tensor with a shape similar to an image tensor\n",
        "random_image_shape_tensor = torch.rand(size = (224,223,3))\n",
        "random_image_shape_tensor.shape, random_image_shape_tensor.ndim"
      ],
      "metadata": {
        "colab": {
          "base_uri": "https://localhost:8080/"
        },
        "id": "28MXB-sw2m7z",
        "outputId": "7972d5a5-7bf3-442f-bab4-2fbbed56a63c"
      },
      "execution_count": 12,
      "outputs": [
        {
          "output_type": "execute_result",
          "data": {
            "text/plain": [
              "(torch.Size([224, 223, 3]), 3)"
            ]
          },
          "metadata": {},
          "execution_count": 12
        }
      ]
    },
    {
      "cell_type": "markdown",
      "source": [
        "### A tensor of zeros and ones"
      ],
      "metadata": {
        "id": "vW9HRUaP3u-5"
      }
    },
    {
      "cell_type": "code",
      "source": [
        "# Create a tensor of zeros\n",
        "zero = torch.zeros(size=(3,4))\n",
        "zero"
      ],
      "metadata": {
        "colab": {
          "base_uri": "https://localhost:8080/"
        },
        "id": "qIFDsHsZ3Kjc",
        "outputId": "a4a936e8-e3ea-49ad-eb2f-a6f9c67bc65e"
      },
      "execution_count": 13,
      "outputs": [
        {
          "output_type": "execute_result",
          "data": {
            "text/plain": [
              "tensor([[0., 0., 0., 0.],\n",
              "        [0., 0., 0., 0.],\n",
              "        [0., 0., 0., 0.]])"
            ]
          },
          "metadata": {},
          "execution_count": 13
        }
      ]
    },
    {
      "cell_type": "code",
      "source": [
        "# Create a tensor of ones\n",
        "ones = torch.ones(size=(3,4))\n",
        "ones"
      ],
      "metadata": {
        "colab": {
          "base_uri": "https://localhost:8080/"
        },
        "id": "PP6yN1aX351r",
        "outputId": "09fd46d9-511d-414f-a0af-70b7bed3fed8"
      },
      "execution_count": 14,
      "outputs": [
        {
          "output_type": "execute_result",
          "data": {
            "text/plain": [
              "tensor([[1., 1., 1., 1.],\n",
              "        [1., 1., 1., 1.],\n",
              "        [1., 1., 1., 1.]])"
            ]
          },
          "metadata": {},
          "execution_count": 14
        }
      ]
    },
    {
      "cell_type": "code",
      "source": [
        "ones.dtype"
      ],
      "metadata": {
        "colab": {
          "base_uri": "https://localhost:8080/"
        },
        "id": "4DLFoF844BvM",
        "outputId": "cc3b1410-9ec1-4be9-8fc7-51abfd12ee74"
      },
      "execution_count": 15,
      "outputs": [
        {
          "output_type": "execute_result",
          "data": {
            "text/plain": [
              "torch.float32"
            ]
          },
          "metadata": {},
          "execution_count": 15
        }
      ]
    },
    {
      "cell_type": "markdown",
      "source": [
        "### Creating a range of tensors and tensors shaped like other tensors"
      ],
      "metadata": {
        "id": "7KpT6hPi4dE3"
      }
    },
    {
      "cell_type": "code",
      "source": [
        "# Use torch.arange() - torch.range() is deprecated!\n",
        "range = torch.arange(0,10)\n",
        "range"
      ],
      "metadata": {
        "colab": {
          "base_uri": "https://localhost:8080/"
        },
        "id": "J0BimZHV4NqE",
        "outputId": "56f875de-ef78-4925-93bd-ff7a2b5468c7"
      },
      "execution_count": 16,
      "outputs": [
        {
          "output_type": "execute_result",
          "data": {
            "text/plain": [
              "tensor([0, 1, 2, 3, 4, 5, 6, 7, 8, 9])"
            ]
          },
          "metadata": {},
          "execution_count": 16
        }
      ]
    },
    {
      "cell_type": "code",
      "source": [
        "range_zeroes = torch.zeros_like(input=range)\n",
        "range_zeroes"
      ],
      "metadata": {
        "colab": {
          "base_uri": "https://localhost:8080/"
        },
        "id": "mc39sOj24l_3",
        "outputId": "ab984e87-0d26-4408-9a32-69d0069547f9"
      },
      "execution_count": 17,
      "outputs": [
        {
          "output_type": "execute_result",
          "data": {
            "text/plain": [
              "tensor([0, 0, 0, 0, 0, 0, 0, 0, 0, 0])"
            ]
          },
          "metadata": {},
          "execution_count": 17
        }
      ]
    },
    {
      "cell_type": "code",
      "source": [
        "# Another example:\n",
        "rand_vector = torch.rand((2,4))\n",
        "rand_vector_zeroes = torch.zeros_like(input=rand_vector)\n",
        "rand_vector, rand_vector_zeroes"
      ],
      "metadata": {
        "colab": {
          "base_uri": "https://localhost:8080/"
        },
        "id": "U6TAC35O5NwC",
        "outputId": "b19566db-1c56-4c04-a863-00dba1ae1bcf"
      },
      "execution_count": 18,
      "outputs": [
        {
          "output_type": "execute_result",
          "data": {
            "text/plain": [
              "(tensor([[0.5106, 0.5840, 0.0247, 0.7063],\n",
              "         [0.3337, 0.5822, 0.2877, 0.4822]]),\n",
              " tensor([[0., 0., 0., 0.],\n",
              "         [0., 0., 0., 0.]]))"
            ]
          },
          "metadata": {},
          "execution_count": 18
        }
      ]
    },
    {
      "cell_type": "markdown",
      "source": [
        "### Tensors datatypes\n",
        "\n",
        "Note: Tensor datatypes is one of the three main issues that are often enountered in PyTorch and Deep Learning:\n",
        "1. Wrong datatype of a tensor\n",
        "2. Wrong shape of a tensor\n",
        "3. A tensor is on a wrong device"
      ],
      "metadata": {
        "id": "xABRh1et6GlD"
      }
    },
    {
      "cell_type": "code",
      "source": [
        "# Float 32 tensor\n",
        "# Parameters dtype, device and requires_grad are the 3 most important parameters when creating tensor\n",
        "\n",
        "# dtype is the datatype of the tensor (e.g float32, float 16 etc.)\n",
        "\n",
        "# device is the hardware which is used to creat the tensor - it is set to cpu by default but can be changed\n",
        "# One error we may get is when trying to do operations on tensors that are on different devices and are therefore incompatible\n",
        "\n",
        "# required_grad is for when we want to track the gradience of a tensor when it through certain calculations\n",
        "\n",
        "float_32_tensor = torch.tensor([1.5,2.5,4.5], dtype=None, device=None, requires_grad=False)\n",
        "float_32_tensor"
      ],
      "metadata": {
        "colab": {
          "base_uri": "https://localhost:8080/"
        },
        "id": "oQBjU3YW6JSX",
        "outputId": "352595cb-b9e6-4af3-e494-fc4cf71c5a2d"
      },
      "execution_count": 20,
      "outputs": [
        {
          "output_type": "execute_result",
          "data": {
            "text/plain": [
              "tensor([1.5000, 2.5000, 4.5000])"
            ]
          },
          "metadata": {},
          "execution_count": 20
        }
      ]
    },
    {
      "cell_type": "code",
      "source": [
        "# Even thought the dtype is specified as none, it will still default to float32\n",
        "float_32_tensor.dtype"
      ],
      "metadata": {
        "colab": {
          "base_uri": "https://localhost:8080/"
        },
        "id": "rcq0_r_r6SYV",
        "outputId": "416eeebe-318c-4925-e7e4-8e1d64b04100"
      },
      "execution_count": 21,
      "outputs": [
        {
          "output_type": "execute_result",
          "data": {
            "text/plain": [
              "torch.float32"
            ]
          },
          "metadata": {},
          "execution_count": 21
        }
      ]
    },
    {
      "cell_type": "code",
      "source": [
        "float_16_tensor = torch.tensor([2.0, 4.0, 6.0], dtype=torch.float16)\n",
        "float_16_tensor.dtype"
      ],
      "metadata": {
        "colab": {
          "base_uri": "https://localhost:8080/"
        },
        "id": "ntHWlGEw6diV",
        "outputId": "865adee9-af71-4661-cac3-1c3b9785e548"
      },
      "execution_count": 22,
      "outputs": [
        {
          "output_type": "execute_result",
          "data": {
            "text/plain": [
              "torch.float16"
            ]
          },
          "metadata": {},
          "execution_count": 22
        }
      ]
    },
    {
      "cell_type": "code",
      "source": [
        "# One way to convert a tensor from one dtype to another would be to use the .type() method:\n",
        "float_16_tensor = float_32_tensor.type(torch.float16)\n",
        "float_16_tensor.dtype"
      ],
      "metadata": {
        "colab": {
          "base_uri": "https://localhost:8080/"
        },
        "id": "N2NaHp6L8ZOI",
        "outputId": "ff97d719-a54d-4b3d-9688-d5346bb2bd80"
      },
      "execution_count": 23,
      "outputs": [
        {
          "output_type": "execute_result",
          "data": {
            "text/plain": [
              "torch.float16"
            ]
          },
          "metadata": {},
          "execution_count": 23
        }
      ]
    },
    {
      "cell_type": "markdown",
      "source": [
        "### Tensor attributes (getting information about tensors)"
      ],
      "metadata": {
        "id": "SHSWBaOK87ZZ"
      }
    },
    {
      "cell_type": "code",
      "source": [
        "tensor_product = float_16_tensor * float_32_tensor\n",
        "tensor_product"
      ],
      "metadata": {
        "colab": {
          "base_uri": "https://localhost:8080/"
        },
        "id": "MkPMY_CE8xdp",
        "outputId": "88c3d6eb-8281-48b3-c2b1-1ae6cce193cb"
      },
      "execution_count": 24,
      "outputs": [
        {
          "output_type": "execute_result",
          "data": {
            "text/plain": [
              "tensor([ 2.2500,  6.2500, 20.2500])"
            ]
          },
          "metadata": {},
          "execution_count": 24
        }
      ]
    },
    {
      "cell_type": "code",
      "source": [
        "int_32_tensor = torch.tensor([3,6,9], dtype=torch.int32)\n",
        "int_32_tensor.dtype"
      ],
      "metadata": {
        "colab": {
          "base_uri": "https://localhost:8080/"
        },
        "id": "MLCEACeo9Hk6",
        "outputId": "5a94015b-eec0-44e9-b015-8aab4f4d4e40"
      },
      "execution_count": 25,
      "outputs": [
        {
          "output_type": "execute_result",
          "data": {
            "text/plain": [
              "torch.int32"
            ]
          },
          "metadata": {},
          "execution_count": 25
        }
      ]
    },
    {
      "cell_type": "code",
      "source": [
        "int_32_tensor * float_32_tensor"
      ],
      "metadata": {
        "colab": {
          "base_uri": "https://localhost:8080/"
        },
        "id": "0VIhVEh8Sq_C",
        "outputId": "f7c29cd6-c6da-44c7-bed2-90c7bfeb840d"
      },
      "execution_count": 27,
      "outputs": [
        {
          "output_type": "execute_result",
          "data": {
            "text/plain": [
              "tensor([ 4.5000, 15.0000, 40.5000])"
            ]
          },
          "metadata": {},
          "execution_count": 27
        }
      ]
    },
    {
      "cell_type": "markdown",
      "source": [
        "### Getting information from tensors:\n",
        "1. shape - `tensor.shape`\n",
        "2. datatype - `tensor.dtype`\n",
        "3. device - `tensor.device`"
      ],
      "metadata": {
        "id": "N1cM1JFCS71w"
      }
    },
    {
      "cell_type": "code",
      "source": [
        "# Find out details about a sample tensor:\n",
        "tensor = torch.rand(size=(3,4,5))\n",
        "print(f\"Tensor shape: {tensor.shape}\")\n",
        "print(f\"Tensor datatype: {tensor.dtype}\")\n",
        "print(f\"Tensor device: {tensor.device}\")"
      ],
      "metadata": {
        "colab": {
          "base_uri": "https://localhost:8080/"
        },
        "id": "J83kB7oSSwLT",
        "outputId": "32ab0fbf-ca7d-4919-dcd3-c35874378419"
      },
      "execution_count": 30,
      "outputs": [
        {
          "output_type": "stream",
          "name": "stdout",
          "text": [
            "Tensor shape: torch.Size([3, 4, 5])\n",
            "Tensor datatype: torch.float32\n",
            "Tensor device: cpu\n"
          ]
        }
      ]
    },
    {
      "cell_type": "markdown",
      "source": [
        "### Changing tensor attributes\n",
        "To change dtype or device for a tensor, we can use the `.to()` method"
      ],
      "metadata": {
        "id": "yBrFpzuCUBul"
      }
    },
    {
      "cell_type": "code",
      "source": [
        "# Change tensor from float32 to float16\n",
        "float32_tensor = torch.rand(size=(3,4), dtype=torch.float32)\n",
        "print(float32_tensor.dtype)\n",
        "float16_tensor = float32_tensor.to(dtype=torch.float16)\n",
        "print(float16_tensor.dtype)"
      ],
      "metadata": {
        "colab": {
          "base_uri": "https://localhost:8080/"
        },
        "id": "X9pmZc0CTlTL",
        "outputId": "6bba5c14-f390-49e5-9b2b-7df46e06176f"
      },
      "execution_count": 31,
      "outputs": [
        {
          "output_type": "stream",
          "name": "stdout",
          "text": [
            "torch.float32\n",
            "torch.float16\n"
          ]
        }
      ]
    },
    {
      "cell_type": "markdown",
      "source": [
        "### Tensor operations\n",
        "\n",
        "Tensor operations include:\n",
        "* Addition\n",
        "* Subtraction\n",
        "* Multiplication (element-wise)\n",
        "* Matrix multiplication (dot product)\n",
        "* Division\n"
      ],
      "metadata": {
        "id": "EkIezzGfUu1f"
      }
    },
    {
      "cell_type": "code",
      "source": [
        "# Addition\n",
        "tensor = torch.tensor([4,5,6])\n",
        "tensor + 10"
      ],
      "metadata": {
        "colab": {
          "base_uri": "https://localhost:8080/"
        },
        "id": "cFDGdjjdUgTt",
        "outputId": "ac1e285f-6bc6-4670-ee0f-cdb33023f3fe"
      },
      "execution_count": 32,
      "outputs": [
        {
          "output_type": "execute_result",
          "data": {
            "text/plain": [
              "tensor([14, 15, 16])"
            ]
          },
          "metadata": {},
          "execution_count": 32
        }
      ]
    },
    {
      "cell_type": "code",
      "source": [
        "tensor1 = torch.tensor([6,7,8])\n",
        "tensor + tensor1"
      ],
      "metadata": {
        "colab": {
          "base_uri": "https://localhost:8080/"
        },
        "id": "NOSBjyoaVTeF",
        "outputId": "2fc670b0-a163-402b-a9f8-ed0a40e21135"
      },
      "execution_count": 33,
      "outputs": [
        {
          "output_type": "execute_result",
          "data": {
            "text/plain": [
              "tensor([10, 12, 14])"
            ]
          },
          "metadata": {},
          "execution_count": 33
        }
      ]
    },
    {
      "cell_type": "code",
      "source": [
        "# Scalar multiplication\n",
        "tensor * 10"
      ],
      "metadata": {
        "colab": {
          "base_uri": "https://localhost:8080/"
        },
        "id": "kRaJmAisVYPC",
        "outputId": "33fd0c5a-5557-46d8-ccca-ef2304862279"
      },
      "execution_count": 34,
      "outputs": [
        {
          "output_type": "execute_result",
          "data": {
            "text/plain": [
              "tensor([40, 50, 60])"
            ]
          },
          "metadata": {},
          "execution_count": 34
        }
      ]
    },
    {
      "cell_type": "code",
      "source": [
        "# Subtraction\n",
        "tensor - 20"
      ],
      "metadata": {
        "colab": {
          "base_uri": "https://localhost:8080/"
        },
        "id": "XTIIy6b3VfTb",
        "outputId": "80425ef8-9d7e-444d-cffa-3111b5b94ebc"
      },
      "execution_count": 36,
      "outputs": [
        {
          "output_type": "execute_result",
          "data": {
            "text/plain": [
              "tensor([-16, -15, -14])"
            ]
          },
          "metadata": {},
          "execution_count": 36
        }
      ]
    },
    {
      "cell_type": "code",
      "source": [
        "# Division\n",
        "tensor / 10"
      ],
      "metadata": {
        "colab": {
          "base_uri": "https://localhost:8080/"
        },
        "id": "_ox_p5-DVp-k",
        "outputId": "165924b3-59bf-4483-ab40-b71f6f39cfb6"
      },
      "execution_count": 37,
      "outputs": [
        {
          "output_type": "execute_result",
          "data": {
            "text/plain": [
              "tensor([0.4000, 0.5000, 0.6000])"
            ]
          },
          "metadata": {},
          "execution_count": 37
        }
      ]
    },
    {
      "cell_type": "code",
      "source": [
        "# Element wise mulitplication\n",
        "tensor1 = torch.tensor([2,3,4])\n",
        "tensor2 = torch.tensor([6,7,8])\n",
        "tensor1 * tensor2"
      ],
      "metadata": {
        "colab": {
          "base_uri": "https://localhost:8080/"
        },
        "id": "ROQE8kyUVs8O",
        "outputId": "ef2d9fef-53c3-47f5-da79-10ecaecbb791"
      },
      "execution_count": 38,
      "outputs": [
        {
          "output_type": "execute_result",
          "data": {
            "text/plain": [
              "tensor([12, 21, 32])"
            ]
          },
          "metadata": {},
          "execution_count": 38
        }
      ]
    },
    {
      "cell_type": "code",
      "source": [
        "# Matrix multiplication\n",
        "torch.matmul(tensor1, tensor2)"
      ],
      "metadata": {
        "colab": {
          "base_uri": "https://localhost:8080/"
        },
        "id": "BboO7N3hWWDy",
        "outputId": "db1412e0-82a5-4a40-853d-f619efab4676"
      },
      "execution_count": 39,
      "outputs": [
        {
          "output_type": "execute_result",
          "data": {
            "text/plain": [
              "tensor(65)"
            ]
          },
          "metadata": {},
          "execution_count": 39
        }
      ]
    },
    {
      "cell_type": "markdown",
      "source": [
        "### A common issue in deep learning is shape errors:\n",
        "Having tensors of incorrect size when trying to do matrix multiplication results in an error\n",
        "\n",
        "There are two main rules that should be follwed when performing matrix operations:\n",
        "1. The **inner dimensions** must match:\n",
        "* `(3,2) @ (2,3)` will work, but\n",
        "* `(3,2) @ (3,2)` won't work\n",
        "2. The resulting matrix must have the shape of the **outer dimensions**:\n",
        "* `(3,2) @ (2,3)` will have shape (3,3)\n",
        "* `(4,5) @ (5,4)` will have shape (5,5)"
      ],
      "metadata": {
        "id": "DixdEuyxXAuZ"
      }
    },
    {
      "cell_type": "code",
      "source": [
        "# Shapes for matrix multiplication\n",
        "tensor1 = torch.tensor([[1,2], [3,4], [5,6]])\n",
        "tensor2 = torch.tensor([[7,8,9], [10,11,12]])\n",
        "torch.matmul(tensor1, tensor2)"
      ],
      "metadata": {
        "colab": {
          "base_uri": "https://localhost:8080/"
        },
        "id": "_D2Myc1NWbqj",
        "outputId": "f33096cf-9ce9-4f30-9d2c-f4259a65b87d"
      },
      "execution_count": 47,
      "outputs": [
        {
          "output_type": "execute_result",
          "data": {
            "text/plain": [
              "tensor([[ 27,  30,  33],\n",
              "        [ 61,  68,  75],\n",
              "        [ 95, 106, 117]])"
            ]
          },
          "metadata": {},
          "execution_count": 47
        }
      ]
    },
    {
      "cell_type": "markdown",
      "source": [
        "### To fix shape mismatch issue when multiplying tensors, we can use transpose:\n",
        "\n",
        "**Transpose** switched the rows and columns of a tensor\n",
        "\n",
        "It lets us turn a tensor of shape (a,b) into tensor of shape (b,a)\n"
      ],
      "metadata": {
        "id": "OkwTm8ZNaf53"
      }
    },
    {
      "cell_type": "code",
      "source": [
        "# Example:\n",
        "tensor1 = torch.tensor([[1,2], [3,4], [5,6]])\n",
        "tensor2 = torch.tensor([[7,8], [10,11], [12,13]])\n",
        "torch.mm(tensor1, tensor2)"
      ],
      "metadata": {
        "colab": {
          "base_uri": "https://localhost:8080/",
          "height": 210
        },
        "id": "nHrHSj42Y4HF",
        "outputId": "cee0bc2f-1f3e-4177-d58c-296273f3dede"
      },
      "execution_count": 48,
      "outputs": [
        {
          "output_type": "error",
          "ename": "RuntimeError",
          "evalue": "mat1 and mat2 shapes cannot be multiplied (3x2 and 3x2)",
          "traceback": [
            "\u001b[0;31m---------------------------------------------------------------------------\u001b[0m",
            "\u001b[0;31mRuntimeError\u001b[0m                              Traceback (most recent call last)",
            "\u001b[0;32m<ipython-input-48-b8c8975a2f9e>\u001b[0m in \u001b[0;36m<cell line: 4>\u001b[0;34m()\u001b[0m\n\u001b[1;32m      2\u001b[0m \u001b[0mtensor1\u001b[0m \u001b[0;34m=\u001b[0m \u001b[0mtorch\u001b[0m\u001b[0;34m.\u001b[0m\u001b[0mtensor\u001b[0m\u001b[0;34m(\u001b[0m\u001b[0;34m[\u001b[0m\u001b[0;34m[\u001b[0m\u001b[0;36m1\u001b[0m\u001b[0;34m,\u001b[0m\u001b[0;36m2\u001b[0m\u001b[0;34m]\u001b[0m\u001b[0;34m,\u001b[0m \u001b[0;34m[\u001b[0m\u001b[0;36m3\u001b[0m\u001b[0;34m,\u001b[0m\u001b[0;36m4\u001b[0m\u001b[0;34m]\u001b[0m\u001b[0;34m,\u001b[0m \u001b[0;34m[\u001b[0m\u001b[0;36m5\u001b[0m\u001b[0;34m,\u001b[0m\u001b[0;36m6\u001b[0m\u001b[0;34m]\u001b[0m\u001b[0;34m]\u001b[0m\u001b[0;34m)\u001b[0m\u001b[0;34m\u001b[0m\u001b[0;34m\u001b[0m\u001b[0m\n\u001b[1;32m      3\u001b[0m \u001b[0mtensor2\u001b[0m \u001b[0;34m=\u001b[0m \u001b[0mtorch\u001b[0m\u001b[0;34m.\u001b[0m\u001b[0mtensor\u001b[0m\u001b[0;34m(\u001b[0m\u001b[0;34m[\u001b[0m\u001b[0;34m[\u001b[0m\u001b[0;36m7\u001b[0m\u001b[0;34m,\u001b[0m\u001b[0;36m8\u001b[0m\u001b[0;34m]\u001b[0m\u001b[0;34m,\u001b[0m \u001b[0;34m[\u001b[0m\u001b[0;36m10\u001b[0m\u001b[0;34m,\u001b[0m\u001b[0;36m11\u001b[0m\u001b[0;34m]\u001b[0m\u001b[0;34m,\u001b[0m \u001b[0;34m[\u001b[0m\u001b[0;36m12\u001b[0m\u001b[0;34m,\u001b[0m\u001b[0;36m13\u001b[0m\u001b[0;34m]\u001b[0m\u001b[0;34m]\u001b[0m\u001b[0;34m)\u001b[0m\u001b[0;34m\u001b[0m\u001b[0;34m\u001b[0m\u001b[0m\n\u001b[0;32m----> 4\u001b[0;31m \u001b[0mtorch\u001b[0m\u001b[0;34m.\u001b[0m\u001b[0mmm\u001b[0m\u001b[0;34m(\u001b[0m\u001b[0mtensor1\u001b[0m\u001b[0;34m,\u001b[0m \u001b[0mtensor2\u001b[0m\u001b[0;34m)\u001b[0m\u001b[0;34m\u001b[0m\u001b[0;34m\u001b[0m\u001b[0m\n\u001b[0m",
            "\u001b[0;31mRuntimeError\u001b[0m: mat1 and mat2 shapes cannot be multiplied (3x2 and 3x2)"
          ]
        }
      ]
    },
    {
      "cell_type": "code",
      "source": [
        "# Since the last case resulted in an error, we can now transpose one of the tensors to be able to use matrix multiplication on them:\n",
        "tensor2 = tensor2.T\n",
        "torch.mm(tensor1, tensor2)"
      ],
      "metadata": {
        "colab": {
          "base_uri": "https://localhost:8080/"
        },
        "id": "OX21M9aca3Vt",
        "outputId": "9f2e870c-5dc3-4b4a-c36c-f5507e06c23d"
      },
      "execution_count": 49,
      "outputs": [
        {
          "output_type": "execute_result",
          "data": {
            "text/plain": [
              "tensor([[ 23,  32,  38],\n",
              "        [ 53,  74,  88],\n",
              "        [ 83, 116, 138]])"
            ]
          },
          "metadata": {},
          "execution_count": 49
        }
      ]
    },
    {
      "cell_type": "markdown",
      "source": [
        "### Tensor aggregation\n",
        "There are other operation we may do on tensors that give us some information about their contents:\n",
        "* min\n",
        "* max\n",
        "* mean\n",
        "* sum"
      ],
      "metadata": {
        "id": "j_s_W-gucd_9"
      }
    },
    {
      "cell_type": "code",
      "source": [
        "x = torch.arange(10)\n",
        "x"
      ],
      "metadata": {
        "colab": {
          "base_uri": "https://localhost:8080/"
        },
        "id": "DlCGgipdbFVc",
        "outputId": "87ee2748-070f-451d-c8e8-ace2566ab888"
      },
      "execution_count": 52,
      "outputs": [
        {
          "output_type": "execute_result",
          "data": {
            "text/plain": [
              "tensor([0, 1, 2, 3, 4, 5, 6, 7, 8, 9])"
            ]
          },
          "metadata": {},
          "execution_count": 52
        }
      ]
    },
    {
      "cell_type": "code",
      "source": [
        "# .min() - returns the smallest element of the tensor\n",
        "x.min()"
      ],
      "metadata": {
        "colab": {
          "base_uri": "https://localhost:8080/"
        },
        "id": "wt-JR2zicrSK",
        "outputId": "b1e17a82-5cbf-4a38-ea92-ebb3186d3076"
      },
      "execution_count": 56,
      "outputs": [
        {
          "output_type": "execute_result",
          "data": {
            "text/plain": [
              "tensor(0)"
            ]
          },
          "metadata": {},
          "execution_count": 56
        }
      ]
    },
    {
      "cell_type": "code",
      "source": [
        "# .min() - returns the largest element of the tensor\n",
        "x.max()"
      ],
      "metadata": {
        "colab": {
          "base_uri": "https://localhost:8080/"
        },
        "id": "K4xFtAD3cvyG",
        "outputId": "5e3a1c48-3999-4b2b-f2ff-4b708edbd53e"
      },
      "execution_count": 57,
      "outputs": [
        {
          "output_type": "execute_result",
          "data": {
            "text/plain": [
              "tensor(9)"
            ]
          },
          "metadata": {},
          "execution_count": 57
        }
      ]
    },
    {
      "cell_type": "code",
      "source": [
        "# .sum() returns the sum of the elements of the tensor\n",
        "x.sum()"
      ],
      "metadata": {
        "colab": {
          "base_uri": "https://localhost:8080/"
        },
        "id": "YXSB9MjEcwRS",
        "outputId": "3f5009df-8019-4610-adda-742c2df48234"
      },
      "execution_count": 63,
      "outputs": [
        {
          "output_type": "execute_result",
          "data": {
            "text/plain": [
              "tensor(45)"
            ]
          },
          "metadata": {},
          "execution_count": 63
        }
      ]
    },
    {
      "cell_type": "code",
      "source": [
        "# .mean() returns the mean of the elements of the tensor\n",
        "# !!! Only works with complex or float types\n",
        "x = x.to(dtype=torch.float32)\n",
        "x.mean()"
      ],
      "metadata": {
        "colab": {
          "base_uri": "https://localhost:8080/"
        },
        "id": "-UBMuvYUc0hb",
        "outputId": "22198895-beaf-44d5-83b6-af8df14a963c"
      },
      "execution_count": 65,
      "outputs": [
        {
          "output_type": "execute_result",
          "data": {
            "text/plain": [
              "tensor(4.5000)"
            ]
          },
          "metadata": {},
          "execution_count": 65
        }
      ]
    },
    {
      "cell_type": "code",
      "source": [
        "# To find the position of the min and max values, we can use torch.argmin() and torch.argmax():\n",
        "torch.argmin(x)"
      ],
      "metadata": {
        "colab": {
          "base_uri": "https://localhost:8080/"
        },
        "id": "rE-XptkcdC6H",
        "outputId": "1503677a-76f3-4822-b9f6-9186397ecf28"
      },
      "execution_count": 67,
      "outputs": [
        {
          "output_type": "execute_result",
          "data": {
            "text/plain": [
              "tensor(0)"
            ]
          },
          "metadata": {},
          "execution_count": 67
        }
      ]
    },
    {
      "cell_type": "code",
      "source": [
        "torch.argmax(x)"
      ],
      "metadata": {
        "colab": {
          "base_uri": "https://localhost:8080/"
        },
        "id": "BxQnl5a0fDxn",
        "outputId": "b3f879f2-a03e-4918-e99e-02471f91cae8"
      },
      "execution_count": 69,
      "outputs": [
        {
          "output_type": "execute_result",
          "data": {
            "text/plain": [
              "tensor(9)"
            ]
          },
          "metadata": {},
          "execution_count": 69
        }
      ]
    },
    {
      "cell_type": "markdown",
      "source": [
        "### Reshaping, stacking, squeezing and unsqueezing tensors\n",
        "\n",
        "* Reshaping is the operation of reshaping a tensor into a different shape\n",
        "* View returns a view of an input tensor of certain shape, but keeps the same memory as original tensor\n",
        "* Stacking is the operation of combining multiple tensors\n",
        "  * vstack - vertical stack, stacks tensors vertically\n",
        "  * hstack - horizontal stack, stacks tensors side by side\n",
        "* Squeezing is the operation of removing all `1` dimensions from a tensor\n",
        "* Unsqueezing is the operation of adding a `1` dimension to a tensor\n",
        "* Permuting returns a view of the input with certain dimensions swapped"
      ],
      "metadata": {
        "id": "a-56xbzfgWvJ"
      }
    },
    {
      "cell_type": "code",
      "source": [
        "# Reshape\n",
        "import torch\n",
        "x = torch.arange(1., 10.)\n",
        "x, x.shape"
      ],
      "metadata": {
        "colab": {
          "base_uri": "https://localhost:8080/"
        },
        "id": "6EEd-Do_fIKp",
        "outputId": "4172060f-c40a-4067-e05f-ae9554a76a95"
      },
      "execution_count": 70,
      "outputs": [
        {
          "output_type": "execute_result",
          "data": {
            "text/plain": [
              "(tensor([1., 2., 3., 4., 5., 6., 7., 8., 9.]), torch.Size([9]))"
            ]
          },
          "metadata": {},
          "execution_count": 70
        }
      ]
    },
    {
      "cell_type": "code",
      "source": [
        "# Reshape\n",
        "# Add an extra dimension (the reshape shape must be compatible with the dimension of the original)\n",
        "# For the reshape to work, the multiple of the new dimensions must be the same as the multiple of the previous dimensions\n",
        "x.reshape(shape=(1,9))\n"
      ],
      "metadata": {
        "colab": {
          "base_uri": "https://localhost:8080/"
        },
        "id": "b-i6s6eyhvjk",
        "outputId": "cbb3f7e6-c153-4717-a23e-dbc696d7419a"
      },
      "execution_count": 73,
      "outputs": [
        {
          "output_type": "execute_result",
          "data": {
            "text/plain": [
              "tensor([[1., 2., 3., 4., 5., 6., 7., 8., 9.]])"
            ]
          },
          "metadata": {},
          "execution_count": 73
        }
      ]
    },
    {
      "cell_type": "code",
      "source": [
        "x.reshape(shape=(9,1))"
      ],
      "metadata": {
        "colab": {
          "base_uri": "https://localhost:8080/"
        },
        "id": "fgVp6GsFiXOF",
        "outputId": "0466a626-9f29-42da-c84e-7237d4377ac7"
      },
      "execution_count": 74,
      "outputs": [
        {
          "output_type": "execute_result",
          "data": {
            "text/plain": [
              "tensor([[1.],\n",
              "        [2.],\n",
              "        [3.],\n",
              "        [4.],\n",
              "        [5.],\n",
              "        [6.],\n",
              "        [7.],\n",
              "        [8.],\n",
              "        [9.]])"
            ]
          },
          "metadata": {},
          "execution_count": 74
        }
      ]
    },
    {
      "cell_type": "code",
      "source": [
        "x.reshape(3,3)"
      ],
      "metadata": {
        "colab": {
          "base_uri": "https://localhost:8080/"
        },
        "id": "idYCTB2lidCj",
        "outputId": "ca9df600-ae6b-4176-da04-68e531ade7bb"
      },
      "execution_count": 77,
      "outputs": [
        {
          "output_type": "execute_result",
          "data": {
            "text/plain": [
              "tensor([[1., 2., 3.],\n",
              "        [4., 5., 6.],\n",
              "        [7., 8., 9.]])"
            ]
          },
          "metadata": {},
          "execution_count": 77
        }
      ]
    },
    {
      "cell_type": "code",
      "source": [
        "# Change the view\n"
      ],
      "metadata": {
        "id": "p0FrLLH6ifUb"
      },
      "execution_count": null,
      "outputs": []
    }
  ]
}