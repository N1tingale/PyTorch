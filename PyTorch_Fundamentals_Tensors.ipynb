{
  "nbformat": 4,
  "nbformat_minor": 0,
  "metadata": {
    "colab": {
      "provenance": [],
      "gpuType": "T4",
      "authorship_tag": "ABX9TyNcFyQLSJ6ZIz/smNAj9nyM"
    },
    "kernelspec": {
      "name": "python3",
      "display_name": "Python 3"
    },
    "language_info": {
      "name": "python"
    }
  },
  "cells": [
    {
      "cell_type": "code",
      "source": [
        "import torch\n",
        "import pandas as pd\n",
        "import numpy as np\n",
        "import matplotlib.pyplot as plt"
      ],
      "metadata": {
        "id": "YA8GSQHc3SMy"
      },
      "execution_count": null,
      "outputs": []
    },
    {
      "cell_type": "markdown",
      "source": [
        "### Introduction to Tensors\n",
        "### Scalar"
      ],
      "metadata": {
        "id": "ZBid7fGY4QYi"
      }
    },
    {
      "cell_type": "code",
      "source": [
        "# Scalar\n",
        "# Usually the variable name is lowercase in code\n",
        "scalar = torch.tensor(7)\n",
        "scalar"
      ],
      "metadata": {
        "colab": {
          "base_uri": "https://localhost:8080/"
        },
        "id": "hzhwg5T148bR",
        "outputId": "994e7fc5-523d-47d5-c4c2-4bd0797108aa"
      },
      "execution_count": null,
      "outputs": [
        {
          "output_type": "execute_result",
          "data": {
            "text/plain": [
              "tensor(7)"
            ]
          },
          "metadata": {},
          "execution_count": 20
        }
      ]
    },
    {
      "cell_type": "code",
      "source": [
        "# Get number of tensor dimensions\n",
        "scalar.ndim"
      ],
      "metadata": {
        "id": "hYRyhw376wfq",
        "colab": {
          "base_uri": "https://localhost:8080/"
        },
        "outputId": "fcf0826a-5500-4d2b-bea5-af19aa59571e"
      },
      "execution_count": null,
      "outputs": [
        {
          "output_type": "execute_result",
          "data": {
            "text/plain": [
              "0"
            ]
          },
          "metadata": {},
          "execution_count": 21
        }
      ]
    },
    {
      "cell_type": "code",
      "source": [
        "# Get python equivalent of the tensor\n",
        "scalar.item()"
      ],
      "metadata": {
        "colab": {
          "base_uri": "https://localhost:8080/"
        },
        "id": "OxYVS0c2QCeZ",
        "outputId": "4fd8bddf-cbed-499c-b131-382942e1dc8a"
      },
      "execution_count": null,
      "outputs": [
        {
          "output_type": "execute_result",
          "data": {
            "text/plain": [
              "7"
            ]
          },
          "metadata": {},
          "execution_count": 22
        }
      ]
    },
    {
      "cell_type": "code",
      "source": [
        "# Vector\n",
        "# Usually the variable name is lowercase in code\n",
        "vector = torch.tensor([[1],[2],[3]])\n",
        "vector"
      ],
      "metadata": {
        "colab": {
          "base_uri": "https://localhost:8080/"
        },
        "id": "dYGVR3AQ-Jum",
        "outputId": "f56a215f-07ba-4944-de12-fd7badb19c70"
      },
      "execution_count": null,
      "outputs": [
        {
          "output_type": "execute_result",
          "data": {
            "text/plain": [
              "tensor([[1],\n",
              "        [2],\n",
              "        [3]])"
            ]
          },
          "metadata": {},
          "execution_count": 23
        }
      ]
    },
    {
      "cell_type": "code",
      "source": [
        "# Get shape of the tensor\n",
        "vector.shape"
      ],
      "metadata": {
        "colab": {
          "base_uri": "https://localhost:8080/"
        },
        "id": "QxlAo9Hr-Xav",
        "outputId": "6cc6c7d2-6ad8-4c7b-db46-664593802242"
      },
      "execution_count": null,
      "outputs": [
        {
          "output_type": "execute_result",
          "data": {
            "text/plain": [
              "torch.Size([3, 1])"
            ]
          },
          "metadata": {},
          "execution_count": 24
        }
      ]
    },
    {
      "cell_type": "code",
      "source": [
        "# MATRIX\n",
        "# Usually the variable name is uppercase in code\n",
        "MATRIX = torch.tensor([[7,8], [9, 10]])\n",
        "MATRIX"
      ],
      "metadata": {
        "colab": {
          "base_uri": "https://localhost:8080/"
        },
        "id": "iNbB6NFL-bWv",
        "outputId": "14d7ecc8-ed42-4f76-d279-54e4aa48a097"
      },
      "execution_count": null,
      "outputs": [
        {
          "output_type": "execute_result",
          "data": {
            "text/plain": [
              "tensor([[ 7,  8],\n",
              "        [ 9, 10]])"
            ]
          },
          "metadata": {},
          "execution_count": 25
        }
      ]
    },
    {
      "cell_type": "code",
      "source": [
        "MATRIX.ndim"
      ],
      "metadata": {
        "colab": {
          "base_uri": "https://localhost:8080/"
        },
        "id": "szBu8ni8_K5K",
        "outputId": "5504f0ff-4628-4679-e40b-e4051fc97494"
      },
      "execution_count": null,
      "outputs": [
        {
          "output_type": "execute_result",
          "data": {
            "text/plain": [
              "2"
            ]
          },
          "metadata": {},
          "execution_count": 26
        }
      ]
    },
    {
      "cell_type": "code",
      "source": [
        "MATRIX.shape"
      ],
      "metadata": {
        "colab": {
          "base_uri": "https://localhost:8080/"
        },
        "id": "psdeCCVM_L7n",
        "outputId": "2389749b-dac5-4db4-e381-33035771a3b2"
      },
      "execution_count": null,
      "outputs": [
        {
          "output_type": "execute_result",
          "data": {
            "text/plain": [
              "torch.Size([2, 2])"
            ]
          },
          "metadata": {},
          "execution_count": 27
        }
      ]
    },
    {
      "cell_type": "code",
      "source": [
        "# TENSOR\n",
        "# Usually the variable name is uppercase in code\n",
        "TENSOR = torch.tensor([[[1,2,3]]])"
      ],
      "metadata": {
        "id": "sACKvWAe_NCF"
      },
      "execution_count": null,
      "outputs": []
    },
    {
      "cell_type": "markdown",
      "source": [
        "### Random Tensors\n",
        "\n",
        "Random tensors are important, because many neural networks learn by starting with tensors with random numbers, and then adjusting them to better represent the data.\n",
        "\n",
        "One example of such a workflow would be:\n",
        "1. Start with random numbers\n",
        "2. Look at the data\n",
        "3. Update the random numbers\n",
        "4. Repeat steps 2-3"
      ],
      "metadata": {
        "id": "vdswAqsK04bG"
      }
    },
    {
      "cell_type": "code",
      "source": [
        "# Create a random tensor of size/shape (a, b)\n",
        "random_tensor = torch.rand(3,4)\n",
        "random_tensor"
      ],
      "metadata": {
        "colab": {
          "base_uri": "https://localhost:8080/"
        },
        "id": "Re-6Cam2065H",
        "outputId": "7162a837-40db-4633-9d27-60fb2a737e3c"
      },
      "execution_count": null,
      "outputs": [
        {
          "output_type": "execute_result",
          "data": {
            "text/plain": [
              "tensor([[0.8627, 0.3491, 0.7911, 0.4286],\n",
              "        [0.4462, 0.6737, 0.4673, 0.4292],\n",
              "        [0.6946, 0.0960, 0.4114, 0.1815]])"
            ]
          },
          "metadata": {},
          "execution_count": 29
        }
      ]
    },
    {
      "cell_type": "code",
      "source": [
        "# Create a random tensor with a shape similar to an image tensor\n",
        "random_image_shape_tensor = torch.rand(size = (224,223,3))\n",
        "random_image_shape_tensor.shape, random_image_shape_tensor.ndim"
      ],
      "metadata": {
        "colab": {
          "base_uri": "https://localhost:8080/"
        },
        "id": "28MXB-sw2m7z",
        "outputId": "37c67368-f3c7-4c06-9719-a66762544dfa"
      },
      "execution_count": null,
      "outputs": [
        {
          "output_type": "execute_result",
          "data": {
            "text/plain": [
              "(torch.Size([224, 223, 3]), 3)"
            ]
          },
          "metadata": {},
          "execution_count": 30
        }
      ]
    },
    {
      "cell_type": "markdown",
      "source": [
        "### A tensor of zeros and ones"
      ],
      "metadata": {
        "id": "vW9HRUaP3u-5"
      }
    },
    {
      "cell_type": "code",
      "source": [
        "# Create a tensor of zeros\n",
        "zero = torch.zeros(size=(3,4))\n",
        "zero"
      ],
      "metadata": {
        "colab": {
          "base_uri": "https://localhost:8080/"
        },
        "id": "qIFDsHsZ3Kjc",
        "outputId": "6114c915-b047-4488-a334-fdee1aea4934"
      },
      "execution_count": null,
      "outputs": [
        {
          "output_type": "execute_result",
          "data": {
            "text/plain": [
              "tensor([[0., 0., 0., 0.],\n",
              "        [0., 0., 0., 0.],\n",
              "        [0., 0., 0., 0.]])"
            ]
          },
          "metadata": {},
          "execution_count": 31
        }
      ]
    },
    {
      "cell_type": "code",
      "source": [
        "# Create a tensor of ones\n",
        "ones = torch.ones(size=(3,4))\n",
        "ones"
      ],
      "metadata": {
        "colab": {
          "base_uri": "https://localhost:8080/"
        },
        "id": "PP6yN1aX351r",
        "outputId": "cc911c45-ce35-4586-cbfd-571e4c59af5e"
      },
      "execution_count": null,
      "outputs": [
        {
          "output_type": "execute_result",
          "data": {
            "text/plain": [
              "tensor([[1., 1., 1., 1.],\n",
              "        [1., 1., 1., 1.],\n",
              "        [1., 1., 1., 1.]])"
            ]
          },
          "metadata": {},
          "execution_count": 32
        }
      ]
    },
    {
      "cell_type": "code",
      "source": [
        "ones.dtype"
      ],
      "metadata": {
        "colab": {
          "base_uri": "https://localhost:8080/"
        },
        "id": "4DLFoF844BvM",
        "outputId": "57c3db76-c6e2-4f29-9626-d1c24611da39"
      },
      "execution_count": null,
      "outputs": [
        {
          "output_type": "execute_result",
          "data": {
            "text/plain": [
              "torch.float32"
            ]
          },
          "metadata": {},
          "execution_count": 33
        }
      ]
    },
    {
      "cell_type": "markdown",
      "source": [
        "### Creating a range of tensors and tensors shaped like other tensors"
      ],
      "metadata": {
        "id": "7KpT6hPi4dE3"
      }
    },
    {
      "cell_type": "code",
      "source": [
        "# Use torch.arange() - torch.range() is deprecated!\n",
        "range = torch.arange(0,10)\n",
        "range"
      ],
      "metadata": {
        "colab": {
          "base_uri": "https://localhost:8080/"
        },
        "id": "J0BimZHV4NqE",
        "outputId": "ac57a0f8-74ff-4b48-dc7e-6aff6906206b"
      },
      "execution_count": null,
      "outputs": [
        {
          "output_type": "execute_result",
          "data": {
            "text/plain": [
              "tensor([0, 1, 2, 3, 4, 5, 6, 7, 8, 9])"
            ]
          },
          "metadata": {},
          "execution_count": 34
        }
      ]
    },
    {
      "cell_type": "code",
      "source": [
        "range_zeroes = torch.zeros_like(input=range)\n",
        "range_zeroes"
      ],
      "metadata": {
        "colab": {
          "base_uri": "https://localhost:8080/"
        },
        "id": "mc39sOj24l_3",
        "outputId": "6753ae29-116b-4d0c-fcf6-a69cde4f41e5"
      },
      "execution_count": null,
      "outputs": [
        {
          "output_type": "execute_result",
          "data": {
            "text/plain": [
              "tensor([0, 0, 0, 0, 0, 0, 0, 0, 0, 0])"
            ]
          },
          "metadata": {},
          "execution_count": 35
        }
      ]
    },
    {
      "cell_type": "code",
      "source": [
        "# Another example:\n",
        "rand_vector = torch.rand((2,4))\n",
        "rand_vector_zeroes = torch.zeros_like(input=rand_vector)\n",
        "rand_vector, rand_vector_zeroes"
      ],
      "metadata": {
        "colab": {
          "base_uri": "https://localhost:8080/"
        },
        "id": "U6TAC35O5NwC",
        "outputId": "d4d5cb42-4bd0-4783-9b26-4b77e3c3ff8f"
      },
      "execution_count": null,
      "outputs": [
        {
          "output_type": "execute_result",
          "data": {
            "text/plain": [
              "(tensor([[0.9944, 0.2862, 0.4736, 0.8911],\n",
              "         [0.6585, 0.5049, 0.0777, 0.4047]]),\n",
              " tensor([[0., 0., 0., 0.],\n",
              "         [0., 0., 0., 0.]]))"
            ]
          },
          "metadata": {},
          "execution_count": 36
        }
      ]
    },
    {
      "cell_type": "markdown",
      "source": [
        "### Tensors datatypes\n",
        "\n",
        "Note: Tensor datatypes is one of the three main issues that are often enountered in PyTorch and Deep Learning:\n",
        "1. Wrong datatype of a tensor\n",
        "2. Wrong shape of a tensor\n",
        "3. A tensor is on a wrong device"
      ],
      "metadata": {
        "id": "xABRh1et6GlD"
      }
    },
    {
      "cell_type": "code",
      "source": [
        "# Float 32 tensor\n",
        "# Parameters dtype, device and requires_grad are the 3 most important parameters when creating tensor\n",
        "\n",
        "# dtype is the datatype of the tensor (e.g float32, float 16 etc.)\n",
        "\n",
        "# device is the hardware which is used to creat the tensor - it is set to cpu by default but can be changed\n",
        "# One error we may get is when trying to do operations on tensors that are on different devices and are therefore incompatible\n",
        "\n",
        "# required_grad is for when we want to track the gradience of a tensor when it through certain calculations\n",
        "\n",
        "float_32_tensor = torch.tensor([1.5,2.5,4.5], dtype=None, device=None, requires_grad=False)\n",
        "float_32_tensor"
      ],
      "metadata": {
        "colab": {
          "base_uri": "https://localhost:8080/"
        },
        "id": "oQBjU3YW6JSX",
        "outputId": "44101f68-9678-49da-b190-3ebd4c5adaa5"
      },
      "execution_count": null,
      "outputs": [
        {
          "output_type": "execute_result",
          "data": {
            "text/plain": [
              "tensor([1.5000, 2.5000, 4.5000])"
            ]
          },
          "metadata": {},
          "execution_count": 37
        }
      ]
    },
    {
      "cell_type": "code",
      "source": [
        "# Even thought the dtype is specified as none, it will still default to float32\n",
        "float_32_tensor.dtype"
      ],
      "metadata": {
        "colab": {
          "base_uri": "https://localhost:8080/"
        },
        "id": "rcq0_r_r6SYV",
        "outputId": "30faeb91-73df-4bdd-e5d3-a1c12aca37ce"
      },
      "execution_count": null,
      "outputs": [
        {
          "output_type": "execute_result",
          "data": {
            "text/plain": [
              "torch.float32"
            ]
          },
          "metadata": {},
          "execution_count": 38
        }
      ]
    },
    {
      "cell_type": "code",
      "source": [
        "float_16_tensor = torch.tensor([2.0, 4.0, 6.0], dtype=torch.float16)\n",
        "float_16_tensor.dtype"
      ],
      "metadata": {
        "colab": {
          "base_uri": "https://localhost:8080/"
        },
        "id": "ntHWlGEw6diV",
        "outputId": "1d4609c6-d15f-4170-b8c6-9b30b444a227"
      },
      "execution_count": null,
      "outputs": [
        {
          "output_type": "execute_result",
          "data": {
            "text/plain": [
              "torch.float16"
            ]
          },
          "metadata": {},
          "execution_count": 39
        }
      ]
    },
    {
      "cell_type": "code",
      "source": [
        "# One way to convert a tensor from one dtype to another would be to use the .type() method:\n",
        "float_16_tensor = float_32_tensor.type(torch.float16)\n",
        "float_16_tensor.dtype"
      ],
      "metadata": {
        "colab": {
          "base_uri": "https://localhost:8080/"
        },
        "id": "N2NaHp6L8ZOI",
        "outputId": "26f9f667-2276-4bfd-fa06-9f9d6d148e36"
      },
      "execution_count": null,
      "outputs": [
        {
          "output_type": "execute_result",
          "data": {
            "text/plain": [
              "torch.float16"
            ]
          },
          "metadata": {},
          "execution_count": 40
        }
      ]
    },
    {
      "cell_type": "markdown",
      "source": [
        "### Tensor attributes (getting information about tensors)"
      ],
      "metadata": {
        "id": "SHSWBaOK87ZZ"
      }
    },
    {
      "cell_type": "code",
      "source": [
        "tensor_product = float_16_tensor * float_32_tensor\n",
        "tensor_product"
      ],
      "metadata": {
        "colab": {
          "base_uri": "https://localhost:8080/"
        },
        "id": "MkPMY_CE8xdp",
        "outputId": "5c628d49-eccb-4e07-eb0c-7c7ec9279039"
      },
      "execution_count": null,
      "outputs": [
        {
          "output_type": "execute_result",
          "data": {
            "text/plain": [
              "tensor([ 2.2500,  6.2500, 20.2500])"
            ]
          },
          "metadata": {},
          "execution_count": 41
        }
      ]
    },
    {
      "cell_type": "code",
      "source": [
        "int_32_tensor = torch.tensor([3,6,9], dtype=torch.int32)\n",
        "int_32_tensor.dtype"
      ],
      "metadata": {
        "colab": {
          "base_uri": "https://localhost:8080/"
        },
        "id": "MLCEACeo9Hk6",
        "outputId": "6104c85e-165a-43c1-f428-f1b3171e2afa"
      },
      "execution_count": null,
      "outputs": [
        {
          "output_type": "execute_result",
          "data": {
            "text/plain": [
              "torch.int32"
            ]
          },
          "metadata": {},
          "execution_count": 42
        }
      ]
    },
    {
      "cell_type": "code",
      "source": [
        "int_32_tensor * float_32_tensor"
      ],
      "metadata": {
        "colab": {
          "base_uri": "https://localhost:8080/"
        },
        "id": "0VIhVEh8Sq_C",
        "outputId": "901efdca-48ee-43bd-efd3-454358ab7a1e"
      },
      "execution_count": null,
      "outputs": [
        {
          "output_type": "execute_result",
          "data": {
            "text/plain": [
              "tensor([ 4.5000, 15.0000, 40.5000])"
            ]
          },
          "metadata": {},
          "execution_count": 43
        }
      ]
    },
    {
      "cell_type": "markdown",
      "source": [
        "### Getting information from tensors:\n",
        "1. shape - `tensor.shape`\n",
        "2. datatype - `tensor.dtype`\n",
        "3. device - `tensor.device`"
      ],
      "metadata": {
        "id": "N1cM1JFCS71w"
      }
    },
    {
      "cell_type": "code",
      "source": [
        "# Find out details about a sample tensor:\n",
        "tensor = torch.rand(size=(3,4,5))\n",
        "print(f\"Tensor shape: {tensor.shape}\")\n",
        "print(f\"Tensor datatype: {tensor.dtype}\")\n",
        "print(f\"Tensor device: {tensor.device}\")"
      ],
      "metadata": {
        "colab": {
          "base_uri": "https://localhost:8080/"
        },
        "id": "J83kB7oSSwLT",
        "outputId": "6505a8bd-af0a-4a52-d67b-faac1e35c19e"
      },
      "execution_count": null,
      "outputs": [
        {
          "output_type": "stream",
          "name": "stdout",
          "text": [
            "Tensor shape: torch.Size([3, 4, 5])\n",
            "Tensor datatype: torch.float32\n",
            "Tensor device: cpu\n"
          ]
        }
      ]
    },
    {
      "cell_type": "markdown",
      "source": [
        "### Changing tensor attributes\n",
        "To change dtype or device for a tensor, we can use the `.to()` method"
      ],
      "metadata": {
        "id": "yBrFpzuCUBul"
      }
    },
    {
      "cell_type": "code",
      "source": [
        "# Change tensor from float32 to float16\n",
        "float32_tensor = torch.rand(size=(3,4), dtype=torch.float32)\n",
        "print(float32_tensor.dtype)\n",
        "float16_tensor = float32_tensor.to(dtype=torch.float16)\n",
        "print(float16_tensor.dtype)"
      ],
      "metadata": {
        "colab": {
          "base_uri": "https://localhost:8080/"
        },
        "id": "X9pmZc0CTlTL",
        "outputId": "96fa4f6e-92d7-4f5e-b501-6baee652a759"
      },
      "execution_count": null,
      "outputs": [
        {
          "output_type": "stream",
          "name": "stdout",
          "text": [
            "torch.float32\n",
            "torch.float16\n"
          ]
        }
      ]
    },
    {
      "cell_type": "markdown",
      "source": [
        "### Tensor operations\n",
        "\n",
        "Tensor operations include:\n",
        "* Addition\n",
        "* Subtraction\n",
        "* Multiplication (element-wise)\n",
        "* Matrix multiplication (dot product)\n",
        "* Division\n"
      ],
      "metadata": {
        "id": "EkIezzGfUu1f"
      }
    },
    {
      "cell_type": "code",
      "source": [
        "# Addition\n",
        "tensor = torch.tensor([4,5,6])\n",
        "tensor + 10"
      ],
      "metadata": {
        "colab": {
          "base_uri": "https://localhost:8080/"
        },
        "id": "cFDGdjjdUgTt",
        "outputId": "2e4ff1bd-61e6-485a-d7d5-5d5a6c1e0c2c"
      },
      "execution_count": null,
      "outputs": [
        {
          "output_type": "execute_result",
          "data": {
            "text/plain": [
              "tensor([14, 15, 16])"
            ]
          },
          "metadata": {},
          "execution_count": 46
        }
      ]
    },
    {
      "cell_type": "code",
      "source": [
        "tensor1 = torch.tensor([6,7,8])\n",
        "tensor + tensor1"
      ],
      "metadata": {
        "colab": {
          "base_uri": "https://localhost:8080/"
        },
        "id": "NOSBjyoaVTeF",
        "outputId": "ae2cad83-f61d-40fe-be3b-798c9e46f7dc"
      },
      "execution_count": null,
      "outputs": [
        {
          "output_type": "execute_result",
          "data": {
            "text/plain": [
              "tensor([10, 12, 14])"
            ]
          },
          "metadata": {},
          "execution_count": 47
        }
      ]
    },
    {
      "cell_type": "code",
      "source": [
        "# Scalar multiplication\n",
        "tensor * 10"
      ],
      "metadata": {
        "colab": {
          "base_uri": "https://localhost:8080/"
        },
        "id": "kRaJmAisVYPC",
        "outputId": "ac79a998-54a4-4aeb-8bdd-b46ca2abe2b5"
      },
      "execution_count": null,
      "outputs": [
        {
          "output_type": "execute_result",
          "data": {
            "text/plain": [
              "tensor([40, 50, 60])"
            ]
          },
          "metadata": {},
          "execution_count": 48
        }
      ]
    },
    {
      "cell_type": "code",
      "source": [
        "# Subtraction\n",
        "tensor - 20"
      ],
      "metadata": {
        "colab": {
          "base_uri": "https://localhost:8080/"
        },
        "id": "XTIIy6b3VfTb",
        "outputId": "98cb3a6d-9b15-484f-b36f-b2e0c32146d8"
      },
      "execution_count": null,
      "outputs": [
        {
          "output_type": "execute_result",
          "data": {
            "text/plain": [
              "tensor([-16, -15, -14])"
            ]
          },
          "metadata": {},
          "execution_count": 49
        }
      ]
    },
    {
      "cell_type": "code",
      "source": [
        "# Division\n",
        "tensor / 10"
      ],
      "metadata": {
        "colab": {
          "base_uri": "https://localhost:8080/"
        },
        "id": "_ox_p5-DVp-k",
        "outputId": "15b0d9e3-0f4c-465e-8e8b-14f52602c675"
      },
      "execution_count": null,
      "outputs": [
        {
          "output_type": "execute_result",
          "data": {
            "text/plain": [
              "tensor([0.4000, 0.5000, 0.6000])"
            ]
          },
          "metadata": {},
          "execution_count": 50
        }
      ]
    },
    {
      "cell_type": "code",
      "source": [
        "# Element wise mulitplication\n",
        "tensor1 = torch.tensor([2,3,4])\n",
        "tensor2 = torch.tensor([6,7,8])\n",
        "tensor1 * tensor2"
      ],
      "metadata": {
        "colab": {
          "base_uri": "https://localhost:8080/"
        },
        "id": "ROQE8kyUVs8O",
        "outputId": "c00514eb-02d7-412a-e201-6cfdc1b0b30e"
      },
      "execution_count": null,
      "outputs": [
        {
          "output_type": "execute_result",
          "data": {
            "text/plain": [
              "tensor([12, 21, 32])"
            ]
          },
          "metadata": {},
          "execution_count": 51
        }
      ]
    },
    {
      "cell_type": "code",
      "source": [
        "# Matrix multiplication\n",
        "torch.matmul(tensor1, tensor2)"
      ],
      "metadata": {
        "colab": {
          "base_uri": "https://localhost:8080/"
        },
        "id": "BboO7N3hWWDy",
        "outputId": "be205ca4-c898-4eae-97dd-4e5181d650dd"
      },
      "execution_count": null,
      "outputs": [
        {
          "output_type": "execute_result",
          "data": {
            "text/plain": [
              "tensor(65)"
            ]
          },
          "metadata": {},
          "execution_count": 52
        }
      ]
    },
    {
      "cell_type": "markdown",
      "source": [
        "### A common issue in deep learning is shape errors:\n",
        "Having tensors of incorrect size when trying to do matrix multiplication results in an error\n",
        "\n",
        "There are two main rules that should be follwed when performing matrix operations:\n",
        "1. The **inner dimensions** must match:\n",
        "* `(3,2) @ (2,3)` will work, but\n",
        "* `(3,2) @ (3,2)` won't work\n",
        "2. The resulting matrix must have the shape of the **outer dimensions**:\n",
        "* `(3,2) @ (2,3)` will have shape (3,3)\n",
        "* `(4,5) @ (5,4)` will have shape (5,5)"
      ],
      "metadata": {
        "id": "DixdEuyxXAuZ"
      }
    },
    {
      "cell_type": "code",
      "source": [
        "# Shapes for matrix multiplication\n",
        "tensor1 = torch.tensor([[1,2], [3,4], [5,6]])\n",
        "tensor2 = torch.tensor([[7,8,9], [10,11,12]])\n",
        "torch.matmul(tensor1, tensor2)"
      ],
      "metadata": {
        "colab": {
          "base_uri": "https://localhost:8080/"
        },
        "id": "_D2Myc1NWbqj",
        "outputId": "ae93315e-c9c6-4c98-8fe8-dbe50925a79f"
      },
      "execution_count": null,
      "outputs": [
        {
          "output_type": "execute_result",
          "data": {
            "text/plain": [
              "tensor([[ 27,  30,  33],\n",
              "        [ 61,  68,  75],\n",
              "        [ 95, 106, 117]])"
            ]
          },
          "metadata": {},
          "execution_count": 53
        }
      ]
    },
    {
      "cell_type": "markdown",
      "source": [
        "### To fix shape mismatch issue when multiplying tensors, we can use transpose:\n",
        "\n",
        "**Transpose** switched the rows and columns of a tensor\n",
        "\n",
        "It lets us turn a tensor of shape (a,b) into tensor of shape (b,a)\n"
      ],
      "metadata": {
        "id": "OkwTm8ZNaf53"
      }
    },
    {
      "cell_type": "code",
      "source": [
        "# Example:\n",
        "tensor1 = torch.tensor([[1,2], [3,4], [5,6]])\n",
        "tensor2 = torch.tensor([[7,8], [10,11], [12,13]])\n",
        "torch.mm(tensor1, tensor2)"
      ],
      "metadata": {
        "colab": {
          "base_uri": "https://localhost:8080/",
          "height": 210
        },
        "id": "nHrHSj42Y4HF",
        "outputId": "9185f4d3-b0bb-4382-815f-9ab63984f569"
      },
      "execution_count": null,
      "outputs": [
        {
          "output_type": "error",
          "ename": "RuntimeError",
          "evalue": "mat1 and mat2 shapes cannot be multiplied (3x2 and 3x2)",
          "traceback": [
            "\u001b[0;31m---------------------------------------------------------------------------\u001b[0m",
            "\u001b[0;31mRuntimeError\u001b[0m                              Traceback (most recent call last)",
            "\u001b[0;32m<ipython-input-70-b8c8975a2f9e>\u001b[0m in \u001b[0;36m<cell line: 4>\u001b[0;34m()\u001b[0m\n\u001b[1;32m      2\u001b[0m \u001b[0mtensor1\u001b[0m \u001b[0;34m=\u001b[0m \u001b[0mtorch\u001b[0m\u001b[0;34m.\u001b[0m\u001b[0mtensor\u001b[0m\u001b[0;34m(\u001b[0m\u001b[0;34m[\u001b[0m\u001b[0;34m[\u001b[0m\u001b[0;36m1\u001b[0m\u001b[0;34m,\u001b[0m\u001b[0;36m2\u001b[0m\u001b[0;34m]\u001b[0m\u001b[0;34m,\u001b[0m \u001b[0;34m[\u001b[0m\u001b[0;36m3\u001b[0m\u001b[0;34m,\u001b[0m\u001b[0;36m4\u001b[0m\u001b[0;34m]\u001b[0m\u001b[0;34m,\u001b[0m \u001b[0;34m[\u001b[0m\u001b[0;36m5\u001b[0m\u001b[0;34m,\u001b[0m\u001b[0;36m6\u001b[0m\u001b[0;34m]\u001b[0m\u001b[0;34m]\u001b[0m\u001b[0;34m)\u001b[0m\u001b[0;34m\u001b[0m\u001b[0;34m\u001b[0m\u001b[0m\n\u001b[1;32m      3\u001b[0m \u001b[0mtensor2\u001b[0m \u001b[0;34m=\u001b[0m \u001b[0mtorch\u001b[0m\u001b[0;34m.\u001b[0m\u001b[0mtensor\u001b[0m\u001b[0;34m(\u001b[0m\u001b[0;34m[\u001b[0m\u001b[0;34m[\u001b[0m\u001b[0;36m7\u001b[0m\u001b[0;34m,\u001b[0m\u001b[0;36m8\u001b[0m\u001b[0;34m]\u001b[0m\u001b[0;34m,\u001b[0m \u001b[0;34m[\u001b[0m\u001b[0;36m10\u001b[0m\u001b[0;34m,\u001b[0m\u001b[0;36m11\u001b[0m\u001b[0;34m]\u001b[0m\u001b[0;34m,\u001b[0m \u001b[0;34m[\u001b[0m\u001b[0;36m12\u001b[0m\u001b[0;34m,\u001b[0m\u001b[0;36m13\u001b[0m\u001b[0;34m]\u001b[0m\u001b[0;34m]\u001b[0m\u001b[0;34m)\u001b[0m\u001b[0;34m\u001b[0m\u001b[0;34m\u001b[0m\u001b[0m\n\u001b[0;32m----> 4\u001b[0;31m \u001b[0mtorch\u001b[0m\u001b[0;34m.\u001b[0m\u001b[0mmm\u001b[0m\u001b[0;34m(\u001b[0m\u001b[0mtensor1\u001b[0m\u001b[0;34m,\u001b[0m \u001b[0mtensor2\u001b[0m\u001b[0;34m)\u001b[0m\u001b[0;34m\u001b[0m\u001b[0;34m\u001b[0m\u001b[0m\n\u001b[0m",
            "\u001b[0;31mRuntimeError\u001b[0m: mat1 and mat2 shapes cannot be multiplied (3x2 and 3x2)"
          ]
        }
      ]
    },
    {
      "cell_type": "code",
      "source": [
        "# Since the last case resulted in an error, we can now transpose one of the tensors to be able to use matrix multiplication on them:\n",
        "tensor2 = tensor2.T\n",
        "torch.mm(tensor1, tensor2)"
      ],
      "metadata": {
        "colab": {
          "base_uri": "https://localhost:8080/"
        },
        "id": "OX21M9aca3Vt",
        "outputId": "bd523875-aa87-4ad7-8fb5-d3936d7b2265"
      },
      "execution_count": null,
      "outputs": [
        {
          "output_type": "execute_result",
          "data": {
            "text/plain": [
              "tensor([[ 23,  32,  38],\n",
              "        [ 53,  74,  88],\n",
              "        [ 83, 116, 138]])"
            ]
          },
          "metadata": {},
          "execution_count": 71
        }
      ]
    },
    {
      "cell_type": "markdown",
      "source": [
        "### Tensor aggregation\n",
        "There are other operation we may do on tensors that give us some information about their contents:\n",
        "* min\n",
        "* max\n",
        "* mean\n",
        "* sum"
      ],
      "metadata": {
        "id": "j_s_W-gucd_9"
      }
    },
    {
      "cell_type": "code",
      "source": [
        "x = torch.arange(10)\n",
        "x"
      ],
      "metadata": {
        "colab": {
          "base_uri": "https://localhost:8080/"
        },
        "id": "DlCGgipdbFVc",
        "outputId": "517dc38d-4f53-4652-d1fd-d0f56696a281"
      },
      "execution_count": null,
      "outputs": [
        {
          "output_type": "execute_result",
          "data": {
            "text/plain": [
              "tensor([0, 1, 2, 3, 4, 5, 6, 7, 8, 9])"
            ]
          },
          "metadata": {},
          "execution_count": 72
        }
      ]
    },
    {
      "cell_type": "code",
      "source": [
        "# .min() - returns the smallest element of the tensor\n",
        "x.min()"
      ],
      "metadata": {
        "colab": {
          "base_uri": "https://localhost:8080/"
        },
        "id": "wt-JR2zicrSK",
        "outputId": "ec21352c-1b6e-48a0-acdd-1ec41204016c"
      },
      "execution_count": null,
      "outputs": [
        {
          "output_type": "execute_result",
          "data": {
            "text/plain": [
              "tensor(0)"
            ]
          },
          "metadata": {},
          "execution_count": 73
        }
      ]
    },
    {
      "cell_type": "code",
      "source": [
        "# .min() - returns the largest element of the tensor\n",
        "x.max()"
      ],
      "metadata": {
        "colab": {
          "base_uri": "https://localhost:8080/"
        },
        "id": "K4xFtAD3cvyG",
        "outputId": "ecaa2477-3b61-4251-e1e7-047a91e6089a"
      },
      "execution_count": null,
      "outputs": [
        {
          "output_type": "execute_result",
          "data": {
            "text/plain": [
              "tensor(9)"
            ]
          },
          "metadata": {},
          "execution_count": 74
        }
      ]
    },
    {
      "cell_type": "code",
      "source": [
        "# .sum() returns the sum of the elements of the tensor\n",
        "x.sum()"
      ],
      "metadata": {
        "colab": {
          "base_uri": "https://localhost:8080/"
        },
        "id": "YXSB9MjEcwRS",
        "outputId": "7fceab81-ce48-4b35-b2b1-e09e0b413bc6"
      },
      "execution_count": null,
      "outputs": [
        {
          "output_type": "execute_result",
          "data": {
            "text/plain": [
              "tensor(45)"
            ]
          },
          "metadata": {},
          "execution_count": 75
        }
      ]
    },
    {
      "cell_type": "code",
      "source": [
        "# .mean() returns the mean of the elements of the tensor\n",
        "# !!! Only works with complex or float types\n",
        "x = x.to(dtype=torch.float32)\n",
        "x.mean()"
      ],
      "metadata": {
        "colab": {
          "base_uri": "https://localhost:8080/"
        },
        "id": "-UBMuvYUc0hb",
        "outputId": "ed999c23-2b25-414d-ace8-2169b732734b"
      },
      "execution_count": null,
      "outputs": [
        {
          "output_type": "execute_result",
          "data": {
            "text/plain": [
              "tensor(4.5000)"
            ]
          },
          "metadata": {},
          "execution_count": 76
        }
      ]
    },
    {
      "cell_type": "code",
      "source": [
        "# To find the position of the min and max values, we can use torch.argmin() and torch.argmax():\n",
        "torch.argmin(x)"
      ],
      "metadata": {
        "colab": {
          "base_uri": "https://localhost:8080/"
        },
        "id": "rE-XptkcdC6H",
        "outputId": "f3b7fdde-a9f8-433a-b4bc-e54fe4d91f3b"
      },
      "execution_count": null,
      "outputs": [
        {
          "output_type": "execute_result",
          "data": {
            "text/plain": [
              "tensor(0)"
            ]
          },
          "metadata": {},
          "execution_count": 77
        }
      ]
    },
    {
      "cell_type": "code",
      "source": [
        "torch.argmax(x)"
      ],
      "metadata": {
        "colab": {
          "base_uri": "https://localhost:8080/"
        },
        "id": "BxQnl5a0fDxn",
        "outputId": "ed2cf7b3-5396-4883-c9d5-15738def9fe2"
      },
      "execution_count": null,
      "outputs": [
        {
          "output_type": "execute_result",
          "data": {
            "text/plain": [
              "tensor(9)"
            ]
          },
          "metadata": {},
          "execution_count": 78
        }
      ]
    },
    {
      "cell_type": "markdown",
      "source": [
        "### Reshaping, stacking, squeezing and unsqueezing tensors\n",
        "\n",
        "* Reshaping is the operation of reshaping a tensor into a different shape\n",
        "* View returns a view of an input tensor of certain shape, but keeps the same memory as original tensor\n",
        "* Stacking is the operation of combining multiple tensors\n",
        "  * vstack - vertical stack, stacks tensors vertically\n",
        "  * hstack - horizontal stack, stacks tensors side by side\n",
        "* Squeezing is the operation of removing all `1` dimensions from a tensor\n",
        "* Unsqueezing is the operation of adding a `1` dimension to a tensor\n",
        "* Permuting returns a view of the input with certain dimensions swapped"
      ],
      "metadata": {
        "id": "a-56xbzfgWvJ"
      }
    },
    {
      "cell_type": "code",
      "source": [
        "# Reshape - change dimensions of a tensor by adding an extra one\n",
        "import torch\n",
        "x = torch.arange(1., 10.)\n",
        "x, x.shape"
      ],
      "metadata": {
        "colab": {
          "base_uri": "https://localhost:8080/"
        },
        "id": "6EEd-Do_fIKp",
        "outputId": "807e9ad1-9410-4698-9bee-5b3a957d61ba"
      },
      "execution_count": 1,
      "outputs": [
        {
          "output_type": "execute_result",
          "data": {
            "text/plain": [
              "(tensor([1., 2., 3., 4., 5., 6., 7., 8., 9.]), torch.Size([9]))"
            ]
          },
          "metadata": {},
          "execution_count": 1
        }
      ]
    },
    {
      "cell_type": "code",
      "source": [
        "# Reshape\n",
        "# Add an extra dimension (the reshape shape must be compatible with the dimension of the original)\n",
        "# For the reshape to work, the multiple of the new dimensions must be the same as the multiple of the previous dimensions\n",
        "x.reshape(shape=(1,9))\n"
      ],
      "metadata": {
        "colab": {
          "base_uri": "https://localhost:8080/"
        },
        "id": "b-i6s6eyhvjk",
        "outputId": "9c89667f-d172-4217-a4b4-ca4ca89e00df"
      },
      "execution_count": 2,
      "outputs": [
        {
          "output_type": "execute_result",
          "data": {
            "text/plain": [
              "tensor([[1., 2., 3., 4., 5., 6., 7., 8., 9.]])"
            ]
          },
          "metadata": {},
          "execution_count": 2
        }
      ]
    },
    {
      "cell_type": "code",
      "source": [
        "x.reshape(shape=(9,1))"
      ],
      "metadata": {
        "colab": {
          "base_uri": "https://localhost:8080/"
        },
        "id": "fgVp6GsFiXOF",
        "outputId": "9f969799-4ac4-4242-8385-1c8d2349b18f"
      },
      "execution_count": 3,
      "outputs": [
        {
          "output_type": "execute_result",
          "data": {
            "text/plain": [
              "tensor([[1.],\n",
              "        [2.],\n",
              "        [3.],\n",
              "        [4.],\n",
              "        [5.],\n",
              "        [6.],\n",
              "        [7.],\n",
              "        [8.],\n",
              "        [9.]])"
            ]
          },
          "metadata": {},
          "execution_count": 3
        }
      ]
    },
    {
      "cell_type": "code",
      "source": [
        "x.reshape(3,3)"
      ],
      "metadata": {
        "colab": {
          "base_uri": "https://localhost:8080/"
        },
        "id": "idYCTB2lidCj",
        "outputId": "329f4720-3e00-4927-bf8d-bb8655436646"
      },
      "execution_count": 4,
      "outputs": [
        {
          "output_type": "execute_result",
          "data": {
            "text/plain": [
              "tensor([[1., 2., 3.],\n",
              "        [4., 5., 6.],\n",
              "        [7., 8., 9.]])"
            ]
          },
          "metadata": {},
          "execution_count": 4
        }
      ]
    },
    {
      "cell_type": "code",
      "source": [
        "# View\n",
        "z = x.view(1,9)\n",
        "z"
      ],
      "metadata": {
        "colab": {
          "base_uri": "https://localhost:8080/"
        },
        "id": "p0FrLLH6ifUb",
        "outputId": "7d294b72-9567-468d-a2ff-ca69b10b9c27"
      },
      "execution_count": 5,
      "outputs": [
        {
          "output_type": "execute_result",
          "data": {
            "text/plain": [
              "tensor([[1., 2., 3., 4., 5., 6., 7., 8., 9.]])"
            ]
          },
          "metadata": {},
          "execution_count": 5
        }
      ]
    },
    {
      "cell_type": "code",
      "source": [
        "z.shape"
      ],
      "metadata": {
        "colab": {
          "base_uri": "https://localhost:8080/"
        },
        "id": "O-j1QsQEjJ8f",
        "outputId": "652d6173-913c-43d0-ae5f-7c2d020bb359"
      },
      "execution_count": 6,
      "outputs": [
        {
          "output_type": "execute_result",
          "data": {
            "text/plain": [
              "torch.Size([1, 9])"
            ]
          },
          "metadata": {},
          "execution_count": 6
        }
      ]
    },
    {
      "cell_type": "code",
      "source": [
        "# The view is similar to reshape, but shares the memory with the original tensor\n",
        "# Changing z will now also change x:\n",
        "z *= 10\n",
        "z, x"
      ],
      "metadata": {
        "colab": {
          "base_uri": "https://localhost:8080/"
        },
        "id": "xaQ2JiJvjMBJ",
        "outputId": "74afac0a-aa68-4d6f-aad4-3ede11eb11d1"
      },
      "execution_count": 7,
      "outputs": [
        {
          "output_type": "execute_result",
          "data": {
            "text/plain": [
              "(tensor([[10., 20., 30., 40., 50., 60., 70., 80., 90.]]),\n",
              " tensor([10., 20., 30., 40., 50., 60., 70., 80., 90.]))"
            ]
          },
          "metadata": {},
          "execution_count": 7
        }
      ]
    },
    {
      "cell_type": "code",
      "source": [
        "# Stack - stack an extra tensor on top or side by side of another one\n",
        "torch.stack([x,x], dim=0)"
      ],
      "metadata": {
        "colab": {
          "base_uri": "https://localhost:8080/"
        },
        "id": "LkRzEXBbjeen",
        "outputId": "789804be-7985-4812-db88-3695ac2116f7"
      },
      "execution_count": 8,
      "outputs": [
        {
          "output_type": "execute_result",
          "data": {
            "text/plain": [
              "tensor([[10., 20., 30., 40., 50., 60., 70., 80., 90.],\n",
              "        [10., 20., 30., 40., 50., 60., 70., 80., 90.]])"
            ]
          },
          "metadata": {},
          "execution_count": 8
        }
      ]
    },
    {
      "cell_type": "code",
      "source": [
        "torch.stack([x,x], dim=1)"
      ],
      "metadata": {
        "colab": {
          "base_uri": "https://localhost:8080/"
        },
        "id": "sJL33rrlqnIt",
        "outputId": "554dcb9e-1b34-4dff-adcd-c2f5ce3f2336"
      },
      "execution_count": 9,
      "outputs": [
        {
          "output_type": "execute_result",
          "data": {
            "text/plain": [
              "tensor([[10., 10.],\n",
              "        [20., 20.],\n",
              "        [30., 30.],\n",
              "        [40., 40.],\n",
              "        [50., 50.],\n",
              "        [60., 60.],\n",
              "        [70., 70.],\n",
              "        [80., 80.],\n",
              "        [90., 90.]])"
            ]
          },
          "metadata": {},
          "execution_count": 9
        }
      ]
    },
    {
      "cell_type": "code",
      "source": [
        "# Squeeze - remove all 1 dimensions from a tensor\n",
        "squeezed_tensor = torch.squeeze(torch.rand(size=(3,5,1,6,1)))\n",
        "squeezed_tensor.shape"
      ],
      "metadata": {
        "colab": {
          "base_uri": "https://localhost:8080/"
        },
        "id": "UHpbpwzXqz8v",
        "outputId": "8302b704-3c2d-4903-d52d-7f5cbb219db7"
      },
      "execution_count": 10,
      "outputs": [
        {
          "output_type": "execute_result",
          "data": {
            "text/plain": [
              "torch.Size([3, 5, 6])"
            ]
          },
          "metadata": {},
          "execution_count": 10
        }
      ]
    },
    {
      "cell_type": "code",
      "source": [
        "# Unsqueeze - add a 1 dimension to a tensor\n",
        "tensor = torch.tensor([1,2,3,4])\n",
        "torch.unsqueeze(tensor, 0)"
      ],
      "metadata": {
        "colab": {
          "base_uri": "https://localhost:8080/"
        },
        "id": "n29gbWKzrCmm",
        "outputId": "b80db842-a559-4584-e767-74c4aea4c5f4"
      },
      "execution_count": 11,
      "outputs": [
        {
          "output_type": "execute_result",
          "data": {
            "text/plain": [
              "tensor([[1, 2, 3, 4]])"
            ]
          },
          "metadata": {},
          "execution_count": 11
        }
      ]
    },
    {
      "cell_type": "code",
      "source": [
        "torch.unsqueeze(tensor, 1)"
      ],
      "metadata": {
        "colab": {
          "base_uri": "https://localhost:8080/"
        },
        "id": "d-blSoqorWrF",
        "outputId": "c59feeee-2570-4025-ff44-803b375d97e7"
      },
      "execution_count": 12,
      "outputs": [
        {
          "output_type": "execute_result",
          "data": {
            "text/plain": [
              "tensor([[1],\n",
              "        [2],\n",
              "        [3],\n",
              "        [4]])"
            ]
          },
          "metadata": {},
          "execution_count": 12
        }
      ]
    },
    {
      "cell_type": "code",
      "source": [
        "# Unsqueeze example:\n",
        "tensor = torch.arange(1,11)\n",
        "tensor_unsqueezed = tensor.unsqueeze(dim=0)\n",
        "tensor, tensor.shape, tensor_unsqueezed, tensor_unsqueezed.shape"
      ],
      "metadata": {
        "colab": {
          "base_uri": "https://localhost:8080/"
        },
        "id": "scjl3NaCrZL8",
        "outputId": "c16e0e31-8b55-4069-93ee-05207bcfd3e7"
      },
      "execution_count": 13,
      "outputs": [
        {
          "output_type": "execute_result",
          "data": {
            "text/plain": [
              "(tensor([ 1,  2,  3,  4,  5,  6,  7,  8,  9, 10]),\n",
              " torch.Size([10]),\n",
              " tensor([[ 1,  2,  3,  4,  5,  6,  7,  8,  9, 10]]),\n",
              " torch.Size([1, 10]))"
            ]
          },
          "metadata": {},
          "execution_count": 13
        }
      ]
    },
    {
      "cell_type": "code",
      "source": [
        "# Squeeze example:\n",
        "tensor_squeezed = tensor_unsqueezed.squeeze()\n",
        "tensor_squeezed, tensor_squeezed.shape"
      ],
      "metadata": {
        "colab": {
          "base_uri": "https://localhost:8080/"
        },
        "id": "t6m98LgbsSfL",
        "outputId": "c94ce2dd-841c-45f5-e4ce-3e5e4569ea15"
      },
      "execution_count": 14,
      "outputs": [
        {
          "output_type": "execute_result",
          "data": {
            "text/plain": [
              "(tensor([ 1,  2,  3,  4,  5,  6,  7,  8,  9, 10]), torch.Size([10]))"
            ]
          },
          "metadata": {},
          "execution_count": 14
        }
      ]
    },
    {
      "cell_type": "code",
      "source": [
        "# Permute - rearrange the dimensions of a tensor in a specified order\n",
        "x = torch.zeros(2,3,5)\n",
        "x, x.shape"
      ],
      "metadata": {
        "colab": {
          "base_uri": "https://localhost:8080/"
        },
        "id": "dLiWVqxybc-Y",
        "outputId": "26e5cc7d-01c0-4ae2-d263-39802d83ebe4"
      },
      "execution_count": 15,
      "outputs": [
        {
          "output_type": "execute_result",
          "data": {
            "text/plain": [
              "(tensor([[[0., 0., 0., 0., 0.],\n",
              "          [0., 0., 0., 0., 0.],\n",
              "          [0., 0., 0., 0., 0.]],\n",
              " \n",
              "         [[0., 0., 0., 0., 0.],\n",
              "          [0., 0., 0., 0., 0.],\n",
              "          [0., 0., 0., 0., 0.]]]),\n",
              " torch.Size([2, 3, 5]))"
            ]
          },
          "metadata": {},
          "execution_count": 15
        }
      ]
    },
    {
      "cell_type": "code",
      "source": [
        "x = x.permute(dims=(2,0,1))\n",
        "x, x.shape"
      ],
      "metadata": {
        "colab": {
          "base_uri": "https://localhost:8080/"
        },
        "id": "ILYo9aHpdSxi",
        "outputId": "c4eb6f1c-a0c4-42f1-9edc-e46d2154fcc9"
      },
      "execution_count": 16,
      "outputs": [
        {
          "output_type": "execute_result",
          "data": {
            "text/plain": [
              "(tensor([[[0., 0., 0.],\n",
              "          [0., 0., 0.]],\n",
              " \n",
              "         [[0., 0., 0.],\n",
              "          [0., 0., 0.]],\n",
              " \n",
              "         [[0., 0., 0.],\n",
              "          [0., 0., 0.]],\n",
              " \n",
              "         [[0., 0., 0.],\n",
              "          [0., 0., 0.]],\n",
              " \n",
              "         [[0., 0., 0.],\n",
              "          [0., 0., 0.]]]),\n",
              " torch.Size([5, 2, 3]))"
            ]
          },
          "metadata": {},
          "execution_count": 16
        }
      ]
    },
    {
      "cell_type": "code",
      "source": [
        "# Another permute example - image tensor\n",
        "image_tensor = torch.rand(size=(224,224,3)) # [height, width, color_channels]\n",
        "\n",
        "# Permute the original tensor to rearrange the axes/dimensions order:\n",
        "image_tensor_permuted = image_tensor.permute(dims=(2, 0, 1))\n",
        "image_tensor_permuted, image_tensor_permuted.shape"
      ],
      "metadata": {
        "id": "PbZ5ydeWdXno",
        "colab": {
          "base_uri": "https://localhost:8080/"
        },
        "outputId": "e015d3d2-918e-49da-90e5-b0c7b2ff3131"
      },
      "execution_count": 18,
      "outputs": [
        {
          "output_type": "execute_result",
          "data": {
            "text/plain": [
              "(tensor([[[0.5103, 0.5325, 0.2954,  ..., 0.1780, 0.1023, 0.7391],\n",
              "          [0.7388, 0.0359, 0.0253,  ..., 0.6767, 0.4128, 0.3484],\n",
              "          [0.4625, 0.3951, 0.7489,  ..., 0.9712, 0.9617, 0.3353],\n",
              "          ...,\n",
              "          [0.3705, 0.3352, 0.0578,  ..., 0.2874, 0.8242, 0.4974],\n",
              "          [0.5617, 0.9035, 0.8165,  ..., 0.5294, 0.2906, 0.4864],\n",
              "          [0.0285, 0.9714, 0.2481,  ..., 0.0304, 0.5564, 0.1678]],\n",
              " \n",
              "         [[0.4287, 0.9152, 0.0633,  ..., 0.1456, 0.8652, 0.2198],\n",
              "          [0.8163, 0.2178, 0.6330,  ..., 0.8171, 0.4363, 0.7330],\n",
              "          [0.3304, 0.0759, 0.9741,  ..., 0.5576, 0.7380, 0.2340],\n",
              "          ...,\n",
              "          [0.6730, 0.3779, 0.8748,  ..., 0.8473, 0.1545, 0.4710],\n",
              "          [0.4287, 0.8068, 0.7437,  ..., 0.2733, 0.3177, 0.9404],\n",
              "          [0.8926, 0.3102, 0.2102,  ..., 0.7879, 0.8315, 0.6968]],\n",
              " \n",
              "         [[0.3977, 0.5138, 0.6398,  ..., 0.0498, 0.3992, 0.6272],\n",
              "          [0.9621, 0.2925, 0.1882,  ..., 0.4360, 0.4034, 0.2967],\n",
              "          [0.3019, 0.9937, 0.5990,  ..., 0.8947, 0.9243, 0.2805],\n",
              "          ...,\n",
              "          [0.7701, 0.6671, 0.2048,  ..., 0.8476, 0.7816, 0.2454],\n",
              "          [0.7294, 0.2520, 0.9929,  ..., 0.6486, 0.7172, 0.3706],\n",
              "          [0.0144, 0.7460, 0.8509,  ..., 0.0428, 0.0330, 0.7306]]]),\n",
              " torch.Size([3, 224, 224]))"
            ]
          },
          "metadata": {},
          "execution_count": 18
        }
      ]
    },
    {
      "cell_type": "markdown",
      "source": [
        "### Selecting data from tensors (indexing)\n",
        "\n",
        "Indexing with PyTorch is similar to indexing with NumPy"
      ],
      "metadata": {
        "id": "NLqvYwSaGl2W"
      }
    },
    {
      "cell_type": "code",
      "source": [
        "# Create a tensor\n",
        "tensor = torch.arange(1,10).reshape(1,3,3)\n",
        "tensor"
      ],
      "metadata": {
        "colab": {
          "base_uri": "https://localhost:8080/"
        },
        "id": "XYFS6t1JGlsy",
        "outputId": "fde372ad-e6c5-4c07-8e26-867d6726d4b7"
      },
      "execution_count": 20,
      "outputs": [
        {
          "output_type": "execute_result",
          "data": {
            "text/plain": [
              "tensor([[[1, 2, 3],\n",
              "         [4, 5, 6],\n",
              "         [7, 8, 9]]])"
            ]
          },
          "metadata": {},
          "execution_count": 20
        }
      ]
    },
    {
      "cell_type": "code",
      "source": [
        "# Indexing the tensor:\n",
        "tensor[0]"
      ],
      "metadata": {
        "colab": {
          "base_uri": "https://localhost:8080/"
        },
        "id": "48JGdAaYGXMv",
        "outputId": "66d46233-e4fb-4fe8-ca2f-3b042b69f087"
      },
      "execution_count": 21,
      "outputs": [
        {
          "output_type": "execute_result",
          "data": {
            "text/plain": [
              "tensor([[1, 2, 3],\n",
              "        [4, 5, 6],\n",
              "        [7, 8, 9]])"
            ]
          },
          "metadata": {},
          "execution_count": 21
        }
      ]
    },
    {
      "cell_type": "code",
      "source": [
        "# Indexing the tensor on the middle bracket:\n",
        "tensor[0][0]"
      ],
      "metadata": {
        "colab": {
          "base_uri": "https://localhost:8080/"
        },
        "id": "Ts1R5scuPwTK",
        "outputId": "358150ac-c8e1-499b-ff23-46a765eb2a63"
      },
      "execution_count": 22,
      "outputs": [
        {
          "output_type": "execute_result",
          "data": {
            "text/plain": [
              "tensor([1, 2, 3])"
            ]
          },
          "metadata": {},
          "execution_count": 22
        }
      ]
    },
    {
      "cell_type": "code",
      "source": [
        "# Indexing the tensor on the innermost bracket:\n",
        "tensor[0][0][0]"
      ],
      "metadata": {
        "colab": {
          "base_uri": "https://localhost:8080/"
        },
        "id": "6AQGgs_qPz1j",
        "outputId": "d4643bce-f524-4268-d20a-106bad1c890d"
      },
      "execution_count": 23,
      "outputs": [
        {
          "output_type": "execute_result",
          "data": {
            "text/plain": [
              "tensor(1)"
            ]
          },
          "metadata": {},
          "execution_count": 23
        }
      ]
    },
    {
      "cell_type": "code",
      "source": [
        "# We can also use \":\" to select a range from target dimension\n",
        "tensor[:, 0]"
      ],
      "metadata": {
        "colab": {
          "base_uri": "https://localhost:8080/"
        },
        "id": "tRlib6uoQCqX",
        "outputId": "efd95914-226b-4576-d13e-7a3071cbe9c4"
      },
      "execution_count": 24,
      "outputs": [
        {
          "output_type": "execute_result",
          "data": {
            "text/plain": [
              "tensor([[1, 2, 3]])"
            ]
          },
          "metadata": {},
          "execution_count": 24
        }
      ]
    },
    {
      "cell_type": "code",
      "source": [
        "# Get all values of the 0 dimensions but only 1 index value of the first and second dimension\n",
        "tensor[:,1,1]"
      ],
      "metadata": {
        "colab": {
          "base_uri": "https://localhost:8080/"
        },
        "id": "ogfXVoJMQoMQ",
        "outputId": "62d4e92c-2b70-4599-e174-3feeaf5f8866"
      },
      "execution_count": 25,
      "outputs": [
        {
          "output_type": "execute_result",
          "data": {
            "text/plain": [
              "tensor([5])"
            ]
          },
          "metadata": {},
          "execution_count": 25
        }
      ]
    },
    {
      "cell_type": "code",
      "source": [
        "# Get index 0 of 0th and 1st dimension and all values of 2nd dimensions\n",
        "tensor[0,0,:]"
      ],
      "metadata": {
        "colab": {
          "base_uri": "https://localhost:8080/"
        },
        "id": "uLJZJcPWQ_-W",
        "outputId": "a1bf5db4-29e5-4375-a622-aa4c2bda1906"
      },
      "execution_count": 26,
      "outputs": [
        {
          "output_type": "execute_result",
          "data": {
            "text/plain": [
              "tensor([1, 2, 3])"
            ]
          },
          "metadata": {},
          "execution_count": 26
        }
      ]
    },
    {
      "cell_type": "code",
      "source": [
        "tensor[0][2][2]"
      ],
      "metadata": {
        "colab": {
          "base_uri": "https://localhost:8080/"
        },
        "id": "O6zKo46MRS3n",
        "outputId": "12138d30-4c77-4c4f-bf38-3ba60da45799"
      },
      "execution_count": 27,
      "outputs": [
        {
          "output_type": "execute_result",
          "data": {
            "text/plain": [
              "tensor(9)"
            ]
          },
          "metadata": {},
          "execution_count": 27
        }
      ]
    },
    {
      "cell_type": "code",
      "source": [
        "tensor[:, :, 2]"
      ],
      "metadata": {
        "colab": {
          "base_uri": "https://localhost:8080/"
        },
        "id": "SRvdH0VNRhM7",
        "outputId": "bdc02d23-8d8e-4e28-e4e5-43d6b9368f1b"
      },
      "execution_count": 31,
      "outputs": [
        {
          "output_type": "execute_result",
          "data": {
            "text/plain": [
              "tensor([[3, 6, 9]])"
            ]
          },
          "metadata": {},
          "execution_count": 31
        }
      ]
    },
    {
      "cell_type": "code",
      "source": [],
      "metadata": {
        "id": "1pHhOkfLRqyo"
      },
      "execution_count": null,
      "outputs": []
    },
    {
      "cell_type": "markdown",
      "source": [
        "### PyTorch and Numpy\n",
        "\n",
        "NumPy is a popular scientific python library\n",
        "\n",
        "Because of this, PyTorch has functionality to interact with numpy\n",
        "\n",
        "* Convert data from a NumPy array into a PyTorch tensor: `torch.from_numpy(ndarray) -> tensor`\n",
        "* Convert a PyTorch tensor into a NumPy array: `torch.Tensor.numpy()`"
      ],
      "metadata": {
        "id": "Nrg9LyKvR4Lp"
      }
    },
    {
      "cell_type": "code",
      "source": [
        "import torch\n",
        "import numpy as np"
      ],
      "metadata": {
        "id": "ZHcrBItvR7Y4"
      },
      "execution_count": 32,
      "outputs": []
    },
    {
      "cell_type": "code",
      "source": [
        "array = np.arange(1.0, 8.0)\n",
        "tensor = torch.from_numpy(array) # when converting a numpy array to pytorch tensor, the tensor keeps the dtype of the array (float64)\n",
        "array, tensor"
      ],
      "metadata": {
        "colab": {
          "base_uri": "https://localhost:8080/"
        },
        "id": "k7koyZ3kR9xC",
        "outputId": "001e27c1-419f-4962-f813-276835230c37"
      },
      "execution_count": 35,
      "outputs": [
        {
          "output_type": "execute_result",
          "data": {
            "text/plain": [
              "(array([1., 2., 3., 4., 5., 6., 7.]),\n",
              " tensor([1., 2., 3., 4., 5., 6., 7.], dtype=torch.float64))"
            ]
          },
          "metadata": {},
          "execution_count": 35
        }
      ]
    },
    {
      "cell_type": "code",
      "source": [
        "array.dtype"
      ],
      "metadata": {
        "colab": {
          "base_uri": "https://localhost:8080/"
        },
        "id": "pk5olLY-Suly",
        "outputId": "1563a62c-cb3a-4bae-c58a-2f961e7fe13e"
      },
      "execution_count": 36,
      "outputs": [
        {
          "output_type": "execute_result",
          "data": {
            "text/plain": [
              "dtype('float64')"
            ]
          },
          "metadata": {},
          "execution_count": 36
        }
      ]
    },
    {
      "cell_type": "code",
      "source": [
        "tensor.dtype"
      ],
      "metadata": {
        "colab": {
          "base_uri": "https://localhost:8080/"
        },
        "id": "oFt5TOrDS6Q_",
        "outputId": "9cbfd4f7-644c-45f4-b0fd-19771648c7f2"
      },
      "execution_count": 37,
      "outputs": [
        {
          "output_type": "execute_result",
          "data": {
            "text/plain": [
              "torch.float64"
            ]
          },
          "metadata": {},
          "execution_count": 37
        }
      ]
    },
    {
      "cell_type": "code",
      "source": [
        "tensor = torch.arange(1, 10)\n",
        "array = tensor.numpy()\n",
        "tensor, array"
      ],
      "metadata": {
        "colab": {
          "base_uri": "https://localhost:8080/"
        },
        "id": "f1rqujEbS8tl",
        "outputId": "c696eef2-f7e5-4ccc-d625-54c54711709d"
      },
      "execution_count": 38,
      "outputs": [
        {
          "output_type": "execute_result",
          "data": {
            "text/plain": [
              "(tensor([1, 2, 3, 4, 5, 6, 7, 8, 9]), array([1, 2, 3, 4, 5, 6, 7, 8, 9]))"
            ]
          },
          "metadata": {},
          "execution_count": 38
        }
      ]
    },
    {
      "cell_type": "code",
      "source": [
        ""
      ],
      "metadata": {
        "id": "rdgQ_j8uTJbv"
      },
      "execution_count": null,
      "outputs": []
    }
  ]
}