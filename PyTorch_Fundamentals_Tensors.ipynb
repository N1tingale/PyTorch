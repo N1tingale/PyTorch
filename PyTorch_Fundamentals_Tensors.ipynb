{
  "nbformat": 4,
  "nbformat_minor": 0,
  "metadata": {
    "colab": {
      "provenance": [],
      "gpuType": "T4",
      "authorship_tag": "ABX9TyPG4Sejku4RKp1bFWnZ4y8f"
    },
    "kernelspec": {
      "name": "python3",
      "display_name": "Python 3"
    },
    "language_info": {
      "name": "python"
    }
  },
  "cells": [
    {
      "cell_type": "code",
      "source": [
        "import torch\n",
        "import pandas as pd\n",
        "import numpy as np\n",
        "import matplotlib.pyplot as plt"
      ],
      "metadata": {
        "id": "YA8GSQHc3SMy"
      },
      "execution_count": 2,
      "outputs": []
    },
    {
      "cell_type": "markdown",
      "source": [
        "### Introduction to Tensors\n",
        "### Scalar"
      ],
      "metadata": {
        "id": "ZBid7fGY4QYi"
      }
    },
    {
      "cell_type": "code",
      "source": [
        "# Scalar\n",
        "# Usually the variable name is lowercase in code\n",
        "scalar = torch.tensor(7)\n",
        "scalar"
      ],
      "metadata": {
        "colab": {
          "base_uri": "https://localhost:8080/"
        },
        "id": "hzhwg5T148bR",
        "outputId": "0ec30954-d360-48ae-e3e6-d067e1854844"
      },
      "execution_count": 3,
      "outputs": [
        {
          "output_type": "execute_result",
          "data": {
            "text/plain": [
              "tensor(7)"
            ]
          },
          "metadata": {},
          "execution_count": 3
        }
      ]
    },
    {
      "cell_type": "code",
      "source": [
        "# Get number of tensor dimensions\n",
        "scalar.ndim"
      ],
      "metadata": {
        "id": "hYRyhw376wfq",
        "colab": {
          "base_uri": "https://localhost:8080/"
        },
        "outputId": "5eadee78-94e6-4d50-b32a-0127dda017a7"
      },
      "execution_count": 4,
      "outputs": [
        {
          "output_type": "execute_result",
          "data": {
            "text/plain": [
              "0"
            ]
          },
          "metadata": {},
          "execution_count": 4
        }
      ]
    },
    {
      "cell_type": "code",
      "source": [
        "# Get python equivalent of the tensor\n",
        "scalar.item()"
      ],
      "metadata": {
        "colab": {
          "base_uri": "https://localhost:8080/"
        },
        "id": "OxYVS0c2QCeZ",
        "outputId": "8f8e70e1-dfaa-4448-a926-323863cfc77c"
      },
      "execution_count": 5,
      "outputs": [
        {
          "output_type": "execute_result",
          "data": {
            "text/plain": [
              "7"
            ]
          },
          "metadata": {},
          "execution_count": 5
        }
      ]
    },
    {
      "cell_type": "code",
      "source": [
        "# Vector\n",
        "# Usually the variable name is lowercase in code\n",
        "vector = torch.tensor([[1],[2],[3]])\n",
        "vector"
      ],
      "metadata": {
        "colab": {
          "base_uri": "https://localhost:8080/"
        },
        "id": "dYGVR3AQ-Jum",
        "outputId": "51209835-dbe0-4b0f-b2b1-017b828f03fb"
      },
      "execution_count": 6,
      "outputs": [
        {
          "output_type": "execute_result",
          "data": {
            "text/plain": [
              "tensor([[1],\n",
              "        [2],\n",
              "        [3]])"
            ]
          },
          "metadata": {},
          "execution_count": 6
        }
      ]
    },
    {
      "cell_type": "code",
      "source": [
        "# Get shape of the tensor\n",
        "vector.shape"
      ],
      "metadata": {
        "colab": {
          "base_uri": "https://localhost:8080/"
        },
        "id": "QxlAo9Hr-Xav",
        "outputId": "15cd93e1-9046-43f7-cf5d-99e2dab04dea"
      },
      "execution_count": 7,
      "outputs": [
        {
          "output_type": "execute_result",
          "data": {
            "text/plain": [
              "torch.Size([3, 1])"
            ]
          },
          "metadata": {},
          "execution_count": 7
        }
      ]
    },
    {
      "cell_type": "code",
      "source": [
        "# MATRIX\n",
        "# Usually the variable name is uppercase in code\n",
        "MATRIX = torch.tensor([[7,8], [9, 10]])\n",
        "MATRIX"
      ],
      "metadata": {
        "colab": {
          "base_uri": "https://localhost:8080/"
        },
        "id": "iNbB6NFL-bWv",
        "outputId": "a7971c25-04f6-41e9-90b3-908326487098"
      },
      "execution_count": 8,
      "outputs": [
        {
          "output_type": "execute_result",
          "data": {
            "text/plain": [
              "tensor([[ 7,  8],\n",
              "        [ 9, 10]])"
            ]
          },
          "metadata": {},
          "execution_count": 8
        }
      ]
    },
    {
      "cell_type": "code",
      "source": [
        "MATRIX.ndim"
      ],
      "metadata": {
        "colab": {
          "base_uri": "https://localhost:8080/"
        },
        "id": "szBu8ni8_K5K",
        "outputId": "43652542-6d49-4c80-a4a3-c330f7dbd308"
      },
      "execution_count": 9,
      "outputs": [
        {
          "output_type": "execute_result",
          "data": {
            "text/plain": [
              "2"
            ]
          },
          "metadata": {},
          "execution_count": 9
        }
      ]
    },
    {
      "cell_type": "code",
      "source": [
        "MATRIX.shape"
      ],
      "metadata": {
        "colab": {
          "base_uri": "https://localhost:8080/"
        },
        "id": "psdeCCVM_L7n",
        "outputId": "97340207-8758-4abe-f88c-4ba55534989d"
      },
      "execution_count": 10,
      "outputs": [
        {
          "output_type": "execute_result",
          "data": {
            "text/plain": [
              "torch.Size([2, 2])"
            ]
          },
          "metadata": {},
          "execution_count": 10
        }
      ]
    },
    {
      "cell_type": "code",
      "source": [
        "# TENSOR\n",
        "# Usually the variable name is uppercase in code\n",
        "TENSOR = torch.tensor([[[1,2,3]]])"
      ],
      "metadata": {
        "id": "sACKvWAe_NCF"
      },
      "execution_count": 11,
      "outputs": []
    },
    {
      "cell_type": "markdown",
      "source": [
        "### Random Tensors\n",
        "\n",
        "Random tensors are important, because many neural networks learn by starting with tensors with random numbers, and then adjusting them to better represent the data.\n",
        "\n",
        "One example of such a workflow would be:\n",
        "1. Start with random numbers\n",
        "2. Look at the data\n",
        "3. Update the random numbers\n",
        "4. Repeat steps 2-3"
      ],
      "metadata": {
        "id": "vdswAqsK04bG"
      }
    },
    {
      "cell_type": "code",
      "source": [
        "# Create a random tensor of size/shape (a, b)\n",
        "random_tensor = torch.rand(3,4)\n",
        "random_tensor"
      ],
      "metadata": {
        "colab": {
          "base_uri": "https://localhost:8080/"
        },
        "id": "Re-6Cam2065H",
        "outputId": "f402649e-4122-4f48-852d-6b2fb35aa06e"
      },
      "execution_count": 12,
      "outputs": [
        {
          "output_type": "execute_result",
          "data": {
            "text/plain": [
              "tensor([[0.5908, 0.5118, 0.0525, 0.9659],\n",
              "        [0.2637, 0.3918, 0.9976, 0.9872],\n",
              "        [0.3944, 0.7442, 0.7250, 0.0743]])"
            ]
          },
          "metadata": {},
          "execution_count": 12
        }
      ]
    },
    {
      "cell_type": "code",
      "source": [
        "# Create a random tensor with a shape similar to an image tensor\n",
        "random_image_shape_tensor = torch.rand(size = (224,223,3))\n",
        "random_image_shape_tensor.shape, random_image_shape_tensor.ndim"
      ],
      "metadata": {
        "colab": {
          "base_uri": "https://localhost:8080/"
        },
        "id": "28MXB-sw2m7z",
        "outputId": "b3f5570c-89b9-4d25-98a6-d6d8d9904e1c"
      },
      "execution_count": 13,
      "outputs": [
        {
          "output_type": "execute_result",
          "data": {
            "text/plain": [
              "(torch.Size([224, 223, 3]), 3)"
            ]
          },
          "metadata": {},
          "execution_count": 13
        }
      ]
    },
    {
      "cell_type": "markdown",
      "source": [
        "### A tensor of zeros and ones"
      ],
      "metadata": {
        "id": "vW9HRUaP3u-5"
      }
    },
    {
      "cell_type": "code",
      "source": [
        "# Create a tensor of zeros\n",
        "zero = torch.zeros(size=(3,4))\n",
        "zero"
      ],
      "metadata": {
        "colab": {
          "base_uri": "https://localhost:8080/"
        },
        "id": "qIFDsHsZ3Kjc",
        "outputId": "15165c34-1ac8-498f-83ec-7d6f1881f4b3"
      },
      "execution_count": 14,
      "outputs": [
        {
          "output_type": "execute_result",
          "data": {
            "text/plain": [
              "tensor([[0., 0., 0., 0.],\n",
              "        [0., 0., 0., 0.],\n",
              "        [0., 0., 0., 0.]])"
            ]
          },
          "metadata": {},
          "execution_count": 14
        }
      ]
    },
    {
      "cell_type": "code",
      "source": [
        "# Create a tensor of ones\n",
        "ones = torch.ones(size=(3,4))\n",
        "ones"
      ],
      "metadata": {
        "colab": {
          "base_uri": "https://localhost:8080/"
        },
        "id": "PP6yN1aX351r",
        "outputId": "86e5a73a-7e61-4646-b73d-0b44f022ca6a"
      },
      "execution_count": 15,
      "outputs": [
        {
          "output_type": "execute_result",
          "data": {
            "text/plain": [
              "tensor([[1., 1., 1., 1.],\n",
              "        [1., 1., 1., 1.],\n",
              "        [1., 1., 1., 1.]])"
            ]
          },
          "metadata": {},
          "execution_count": 15
        }
      ]
    },
    {
      "cell_type": "code",
      "source": [
        "ones.dtype"
      ],
      "metadata": {
        "colab": {
          "base_uri": "https://localhost:8080/"
        },
        "id": "4DLFoF844BvM",
        "outputId": "fe954877-d018-4544-9f70-978e66e6d7b0"
      },
      "execution_count": 16,
      "outputs": [
        {
          "output_type": "execute_result",
          "data": {
            "text/plain": [
              "torch.float32"
            ]
          },
          "metadata": {},
          "execution_count": 16
        }
      ]
    },
    {
      "cell_type": "markdown",
      "source": [
        "### Creating a range of tensors and tensors shaped like other tensors"
      ],
      "metadata": {
        "id": "7KpT6hPi4dE3"
      }
    },
    {
      "cell_type": "code",
      "source": [
        "# Use torch.arange() - torch.range() is deprecated!\n",
        "range = torch.arange(0,10)\n",
        "range"
      ],
      "metadata": {
        "colab": {
          "base_uri": "https://localhost:8080/"
        },
        "id": "J0BimZHV4NqE",
        "outputId": "d2746d56-bbac-42f7-afd2-db07fff88e31"
      },
      "execution_count": 17,
      "outputs": [
        {
          "output_type": "execute_result",
          "data": {
            "text/plain": [
              "tensor([0, 1, 2, 3, 4, 5, 6, 7, 8, 9])"
            ]
          },
          "metadata": {},
          "execution_count": 17
        }
      ]
    },
    {
      "cell_type": "code",
      "source": [
        "range_zeroes = torch.zeros_like(input=range)\n",
        "range_zeroes"
      ],
      "metadata": {
        "colab": {
          "base_uri": "https://localhost:8080/"
        },
        "id": "mc39sOj24l_3",
        "outputId": "1e91b8ff-038a-476c-b774-add54572e499"
      },
      "execution_count": 22,
      "outputs": [
        {
          "output_type": "execute_result",
          "data": {
            "text/plain": [
              "tensor([0, 0, 0, 0, 0, 0, 0, 0, 0, 0])"
            ]
          },
          "metadata": {},
          "execution_count": 22
        }
      ]
    },
    {
      "cell_type": "code",
      "source": [
        "# Another example:\n",
        "rand_vector = torch.rand((2,4))\n",
        "rand_vector_zeroes = torch.zeros_like(input=rand_vector)\n",
        "rand_vector, rand_vector_zeroes"
      ],
      "metadata": {
        "colab": {
          "base_uri": "https://localhost:8080/"
        },
        "id": "U6TAC35O5NwC",
        "outputId": "e460665f-1991-488d-d96d-df42957b7642"
      },
      "execution_count": 23,
      "outputs": [
        {
          "output_type": "execute_result",
          "data": {
            "text/plain": [
              "(tensor([[0.0374, 0.6152, 0.3592, 0.3820],\n",
              "         [0.2150, 0.4859, 0.6096, 0.7264]]),\n",
              " tensor([[0., 0., 0., 0.],\n",
              "         [0., 0., 0., 0.]]))"
            ]
          },
          "metadata": {},
          "execution_count": 23
        }
      ]
    },
    {
      "cell_type": "markdown",
      "source": [
        "### Tensors datatypes\n",
        "\n",
        "Note: Tensor datatypes is one of the three main issues that are often enountered in PyTorch and Deep Learning:\n",
        "1. Wrong datatype of a tensor\n",
        "2. Wrong shape of a tensor\n",
        "3. A tensor is on a wrong device"
      ],
      "metadata": {
        "id": "xABRh1et6GlD"
      }
    },
    {
      "cell_type": "code",
      "source": [
        "# Float 32 tensor\n",
        "# Parameters dtype, device and requires_grad are the 3 most important parameters when creating tensor\n",
        "\n",
        "# dtype is the datatype of the tensor (e.g float32, float 16 etc.)\n",
        "\n",
        "# device is the hardware which is used to creat the tensor - it is set to cpu by default but can be changed\n",
        "# One error we may get is when trying to do operations on tensors that are on different devices and are therefore incompatible\n",
        "\n",
        "# required_grad is for when we want to track the gradience of a tensor when it through certain calculations\n",
        "\n",
        "float_32_tensor = torch.tensor([1.5,2.5,4.5], dtype=None, device=None, requires_grad=None)\n",
        "float_32_tensor"
      ],
      "metadata": {
        "colab": {
          "base_uri": "https://localhost:8080/"
        },
        "id": "oQBjU3YW6JSX",
        "outputId": "ecb71ab9-1201-43a4-9be8-03561ded2665"
      },
      "execution_count": 24,
      "outputs": [
        {
          "output_type": "execute_result",
          "data": {
            "text/plain": [
              "tensor([1.5000, 2.5000, 4.5000])"
            ]
          },
          "metadata": {},
          "execution_count": 24
        }
      ]
    },
    {
      "cell_type": "code",
      "source": [
        "# Even thought the dtype is specified as none, it will still default to float32\n",
        "float_32_tensor.dtype"
      ],
      "metadata": {
        "colab": {
          "base_uri": "https://localhost:8080/"
        },
        "id": "rcq0_r_r6SYV",
        "outputId": "e251f1f1-6a34-4d41-b43f-e8d8966ad6aa"
      },
      "execution_count": 25,
      "outputs": [
        {
          "output_type": "execute_result",
          "data": {
            "text/plain": [
              "torch.float32"
            ]
          },
          "metadata": {},
          "execution_count": 25
        }
      ]
    },
    {
      "cell_type": "code",
      "source": [],
      "metadata": {
        "id": "ntHWlGEw6diV"
      },
      "execution_count": null,
      "outputs": []
    }
  ]
}